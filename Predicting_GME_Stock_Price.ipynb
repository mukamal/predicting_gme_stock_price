{
  "nbformat": 4,
  "nbformat_minor": 0,
  "metadata": {
    "colab": {
      "name": "Predicting_GME_Stock_Price.ipynb",
      "provenance": [],
      "collapsed_sections": [],
      "toc_visible": true,
      "authorship_tag": "ABX9TyMFbugCvDZj8/VYTaESb0yi",
      "include_colab_link": true
    },
    "kernelspec": {
      "name": "python3",
      "display_name": "Python 3"
    },
    "language_info": {
      "name": "python"
    },
    "widgets": {
      "application/vnd.jupyter.widget-state+json": {
        "e75e7ba63f8f42eea01ef3a5ca042a1c": {
          "model_module": "@jupyter-widgets/controls",
          "model_name": "HBoxModel",
          "state": {
            "_view_name": "HBoxView",
            "_dom_classes": [],
            "_model_name": "HBoxModel",
            "_view_module": "@jupyter-widgets/controls",
            "_model_module_version": "1.5.0",
            "_view_count": null,
            "_view_module_version": "1.5.0",
            "box_style": "",
            "layout": "IPY_MODEL_4aa150afb2354d3d9237822657b36e42",
            "_model_module": "@jupyter-widgets/controls",
            "children": [
              "IPY_MODEL_53f43a8ae6e14c2eb7419b339d746b24",
              "IPY_MODEL_406679f24016425ea981cc8db99f8b6e"
            ]
          }
        },
        "4aa150afb2354d3d9237822657b36e42": {
          "model_module": "@jupyter-widgets/base",
          "model_name": "LayoutModel",
          "state": {
            "_view_name": "LayoutView",
            "grid_template_rows": null,
            "right": null,
            "justify_content": null,
            "_view_module": "@jupyter-widgets/base",
            "overflow": null,
            "_model_module_version": "1.2.0",
            "_view_count": null,
            "flex_flow": null,
            "width": null,
            "min_width": null,
            "border": null,
            "align_items": null,
            "bottom": null,
            "_model_module": "@jupyter-widgets/base",
            "top": null,
            "grid_column": null,
            "overflow_y": null,
            "overflow_x": null,
            "grid_auto_flow": null,
            "grid_area": null,
            "grid_template_columns": null,
            "flex": null,
            "_model_name": "LayoutModel",
            "justify_items": null,
            "grid_row": null,
            "max_height": null,
            "align_content": null,
            "visibility": null,
            "align_self": null,
            "height": null,
            "min_height": null,
            "padding": null,
            "grid_auto_rows": null,
            "grid_gap": null,
            "max_width": null,
            "order": null,
            "_view_module_version": "1.2.0",
            "grid_template_areas": null,
            "object_position": null,
            "object_fit": null,
            "grid_auto_columns": null,
            "margin": null,
            "display": null,
            "left": null
          }
        },
        "53f43a8ae6e14c2eb7419b339d746b24": {
          "model_module": "@jupyter-widgets/controls",
          "model_name": "FloatProgressModel",
          "state": {
            "_view_name": "ProgressView",
            "style": "IPY_MODEL_4570c1ba6d4a43178530c7450a81c72e",
            "_dom_classes": [],
            "description": "Training  : 100%",
            "_model_name": "FloatProgressModel",
            "bar_style": "success",
            "max": 2,
            "_view_module": "@jupyter-widgets/controls",
            "_model_module_version": "1.5.0",
            "value": 2,
            "_view_count": null,
            "_view_module_version": "1.5.0",
            "orientation": "horizontal",
            "min": 0,
            "description_tooltip": null,
            "_model_module": "@jupyter-widgets/controls",
            "layout": "IPY_MODEL_aa2967c13604452ebf9d2c35f51eca56"
          }
        },
        "406679f24016425ea981cc8db99f8b6e": {
          "model_module": "@jupyter-widgets/controls",
          "model_name": "HTMLModel",
          "state": {
            "_view_name": "HTMLView",
            "style": "IPY_MODEL_a1750fe9960e423d9515f905c452d11d",
            "_dom_classes": [],
            "description": "",
            "_model_name": "HTMLModel",
            "placeholder": "​",
            "_view_module": "@jupyter-widgets/controls",
            "_model_module_version": "1.5.0",
            "value": " 2/2 [01:20&lt;00:00, 40.05s/it, loss=0.576]",
            "_view_count": null,
            "_view_module_version": "1.5.0",
            "description_tooltip": null,
            "_model_module": "@jupyter-widgets/controls",
            "layout": "IPY_MODEL_b4aa4801802b427790a502137d2184da"
          }
        },
        "4570c1ba6d4a43178530c7450a81c72e": {
          "model_module": "@jupyter-widgets/controls",
          "model_name": "ProgressStyleModel",
          "state": {
            "_view_name": "StyleView",
            "_model_name": "ProgressStyleModel",
            "description_width": "initial",
            "_view_module": "@jupyter-widgets/base",
            "_model_module_version": "1.5.0",
            "_view_count": null,
            "_view_module_version": "1.2.0",
            "bar_color": null,
            "_model_module": "@jupyter-widgets/controls"
          }
        },
        "aa2967c13604452ebf9d2c35f51eca56": {
          "model_module": "@jupyter-widgets/base",
          "model_name": "LayoutModel",
          "state": {
            "_view_name": "LayoutView",
            "grid_template_rows": null,
            "right": null,
            "justify_content": null,
            "_view_module": "@jupyter-widgets/base",
            "overflow": null,
            "_model_module_version": "1.2.0",
            "_view_count": null,
            "flex_flow": null,
            "width": null,
            "min_width": null,
            "border": null,
            "align_items": null,
            "bottom": null,
            "_model_module": "@jupyter-widgets/base",
            "top": null,
            "grid_column": null,
            "overflow_y": null,
            "overflow_x": null,
            "grid_auto_flow": null,
            "grid_area": null,
            "grid_template_columns": null,
            "flex": null,
            "_model_name": "LayoutModel",
            "justify_items": null,
            "grid_row": null,
            "max_height": null,
            "align_content": null,
            "visibility": null,
            "align_self": null,
            "height": null,
            "min_height": null,
            "padding": null,
            "grid_auto_rows": null,
            "grid_gap": null,
            "max_width": null,
            "order": null,
            "_view_module_version": "1.2.0",
            "grid_template_areas": null,
            "object_position": null,
            "object_fit": null,
            "grid_auto_columns": null,
            "margin": null,
            "display": null,
            "left": null
          }
        },
        "a1750fe9960e423d9515f905c452d11d": {
          "model_module": "@jupyter-widgets/controls",
          "model_name": "DescriptionStyleModel",
          "state": {
            "_view_name": "StyleView",
            "_model_name": "DescriptionStyleModel",
            "description_width": "",
            "_view_module": "@jupyter-widgets/base",
            "_model_module_version": "1.5.0",
            "_view_count": null,
            "_view_module_version": "1.2.0",
            "_model_module": "@jupyter-widgets/controls"
          }
        },
        "b4aa4801802b427790a502137d2184da": {
          "model_module": "@jupyter-widgets/base",
          "model_name": "LayoutModel",
          "state": {
            "_view_name": "LayoutView",
            "grid_template_rows": null,
            "right": null,
            "justify_content": null,
            "_view_module": "@jupyter-widgets/base",
            "overflow": null,
            "_model_module_version": "1.2.0",
            "_view_count": null,
            "flex_flow": null,
            "width": null,
            "min_width": null,
            "border": null,
            "align_items": null,
            "bottom": null,
            "_model_module": "@jupyter-widgets/base",
            "top": null,
            "grid_column": null,
            "overflow_y": null,
            "overflow_x": null,
            "grid_auto_flow": null,
            "grid_area": null,
            "grid_template_columns": null,
            "flex": null,
            "_model_name": "LayoutModel",
            "justify_items": null,
            "grid_row": null,
            "max_height": null,
            "align_content": null,
            "visibility": null,
            "align_self": null,
            "height": null,
            "min_height": null,
            "padding": null,
            "grid_auto_rows": null,
            "grid_gap": null,
            "max_width": null,
            "order": null,
            "_view_module_version": "1.2.0",
            "grid_template_areas": null,
            "object_position": null,
            "object_fit": null,
            "grid_auto_columns": null,
            "margin": null,
            "display": null,
            "left": null
          }
        },
        "00a5bfa1517d4610bdf8cf0b4cd83d18": {
          "model_module": "@jupyter-widgets/controls",
          "model_name": "HBoxModel",
          "state": {
            "_view_name": "HBoxView",
            "_dom_classes": [],
            "_model_name": "HBoxModel",
            "_view_module": "@jupyter-widgets/controls",
            "_model_module_version": "1.5.0",
            "_view_count": null,
            "_view_module_version": "1.5.0",
            "box_style": "",
            "layout": "IPY_MODEL_506d7ff06e6a44b98118bde9a8a05633",
            "_model_module": "@jupyter-widgets/controls",
            "children": [
              "IPY_MODEL_a6b846a22fa143578a53cc07321455e3",
              "IPY_MODEL_7f1dbe1b079145a4ae3670b285dcf8cb"
            ]
          }
        },
        "506d7ff06e6a44b98118bde9a8a05633": {
          "model_module": "@jupyter-widgets/base",
          "model_name": "LayoutModel",
          "state": {
            "_view_name": "LayoutView",
            "grid_template_rows": null,
            "right": null,
            "justify_content": null,
            "_view_module": "@jupyter-widgets/base",
            "overflow": null,
            "_model_module_version": "1.2.0",
            "_view_count": null,
            "flex_flow": null,
            "width": null,
            "min_width": null,
            "border": null,
            "align_items": null,
            "bottom": null,
            "_model_module": "@jupyter-widgets/base",
            "top": null,
            "grid_column": null,
            "overflow_y": null,
            "overflow_x": null,
            "grid_auto_flow": null,
            "grid_area": null,
            "grid_template_columns": null,
            "flex": null,
            "_model_name": "LayoutModel",
            "justify_items": null,
            "grid_row": null,
            "max_height": null,
            "align_content": null,
            "visibility": null,
            "align_self": null,
            "height": null,
            "min_height": null,
            "padding": null,
            "grid_auto_rows": null,
            "grid_gap": null,
            "max_width": null,
            "order": null,
            "_view_module_version": "1.2.0",
            "grid_template_areas": null,
            "object_position": null,
            "object_fit": null,
            "grid_auto_columns": null,
            "margin": null,
            "display": null,
            "left": null
          }
        },
        "a6b846a22fa143578a53cc07321455e3": {
          "model_module": "@jupyter-widgets/controls",
          "model_name": "FloatProgressModel",
          "state": {
            "_view_name": "ProgressView",
            "style": "IPY_MODEL_cd35540e80b34e1b8907af48830da422",
            "_dom_classes": [],
            "description": "Validating: 100%",
            "_model_name": "FloatProgressModel",
            "bar_style": "success",
            "max": 1,
            "_view_module": "@jupyter-widgets/controls",
            "_model_module_version": "1.5.0",
            "value": 1,
            "_view_count": null,
            "_view_module_version": "1.5.0",
            "orientation": "horizontal",
            "min": 0,
            "description_tooltip": null,
            "_model_module": "@jupyter-widgets/controls",
            "layout": "IPY_MODEL_15919388c1794da8bce8850092ae367f"
          }
        },
        "7f1dbe1b079145a4ae3670b285dcf8cb": {
          "model_module": "@jupyter-widgets/controls",
          "model_name": "HTMLModel",
          "state": {
            "_view_name": "HTMLView",
            "style": "IPY_MODEL_e67eea3f63cf4250acad3e7d83384913",
            "_dom_classes": [],
            "description": "",
            "_model_name": "HTMLModel",
            "placeholder": "​",
            "_view_module": "@jupyter-widgets/controls",
            "_model_module_version": "1.5.0",
            "value": " 1/1 [00:03&lt;00:00,  3.50s/it]",
            "_view_count": null,
            "_view_module_version": "1.5.0",
            "description_tooltip": null,
            "_model_module": "@jupyter-widgets/controls",
            "layout": "IPY_MODEL_452722553d7b4cb4b04d7565a3324c22"
          }
        },
        "cd35540e80b34e1b8907af48830da422": {
          "model_module": "@jupyter-widgets/controls",
          "model_name": "ProgressStyleModel",
          "state": {
            "_view_name": "StyleView",
            "_model_name": "ProgressStyleModel",
            "description_width": "initial",
            "_view_module": "@jupyter-widgets/base",
            "_model_module_version": "1.5.0",
            "_view_count": null,
            "_view_module_version": "1.2.0",
            "bar_color": null,
            "_model_module": "@jupyter-widgets/controls"
          }
        },
        "15919388c1794da8bce8850092ae367f": {
          "model_module": "@jupyter-widgets/base",
          "model_name": "LayoutModel",
          "state": {
            "_view_name": "LayoutView",
            "grid_template_rows": null,
            "right": null,
            "justify_content": null,
            "_view_module": "@jupyter-widgets/base",
            "overflow": null,
            "_model_module_version": "1.2.0",
            "_view_count": null,
            "flex_flow": null,
            "width": null,
            "min_width": null,
            "border": null,
            "align_items": null,
            "bottom": null,
            "_model_module": "@jupyter-widgets/base",
            "top": null,
            "grid_column": null,
            "overflow_y": null,
            "overflow_x": null,
            "grid_auto_flow": null,
            "grid_area": null,
            "grid_template_columns": null,
            "flex": null,
            "_model_name": "LayoutModel",
            "justify_items": null,
            "grid_row": null,
            "max_height": null,
            "align_content": null,
            "visibility": null,
            "align_self": null,
            "height": null,
            "min_height": null,
            "padding": null,
            "grid_auto_rows": null,
            "grid_gap": null,
            "max_width": null,
            "order": null,
            "_view_module_version": "1.2.0",
            "grid_template_areas": null,
            "object_position": null,
            "object_fit": null,
            "grid_auto_columns": null,
            "margin": null,
            "display": null,
            "left": null
          }
        },
        "e67eea3f63cf4250acad3e7d83384913": {
          "model_module": "@jupyter-widgets/controls",
          "model_name": "DescriptionStyleModel",
          "state": {
            "_view_name": "StyleView",
            "_model_name": "DescriptionStyleModel",
            "description_width": "",
            "_view_module": "@jupyter-widgets/base",
            "_model_module_version": "1.5.0",
            "_view_count": null,
            "_view_module_version": "1.2.0",
            "_model_module": "@jupyter-widgets/controls"
          }
        },
        "452722553d7b4cb4b04d7565a3324c22": {
          "model_module": "@jupyter-widgets/base",
          "model_name": "LayoutModel",
          "state": {
            "_view_name": "LayoutView",
            "grid_template_rows": null,
            "right": null,
            "justify_content": null,
            "_view_module": "@jupyter-widgets/base",
            "overflow": null,
            "_model_module_version": "1.2.0",
            "_view_count": null,
            "flex_flow": null,
            "width": null,
            "min_width": null,
            "border": null,
            "align_items": null,
            "bottom": null,
            "_model_module": "@jupyter-widgets/base",
            "top": null,
            "grid_column": null,
            "overflow_y": null,
            "overflow_x": null,
            "grid_auto_flow": null,
            "grid_area": null,
            "grid_template_columns": null,
            "flex": null,
            "_model_name": "LayoutModel",
            "justify_items": null,
            "grid_row": null,
            "max_height": null,
            "align_content": null,
            "visibility": null,
            "align_self": null,
            "height": null,
            "min_height": null,
            "padding": null,
            "grid_auto_rows": null,
            "grid_gap": null,
            "max_width": null,
            "order": null,
            "_view_module_version": "1.2.0",
            "grid_template_areas": null,
            "object_position": null,
            "object_fit": null,
            "grid_auto_columns": null,
            "margin": null,
            "display": null,
            "left": null
          }
        },
        "0c689452c59947a786bbd26546943a47": {
          "model_module": "@jupyter-widgets/controls",
          "model_name": "HBoxModel",
          "state": {
            "_view_name": "HBoxView",
            "_dom_classes": [],
            "_model_name": "HBoxModel",
            "_view_module": "@jupyter-widgets/controls",
            "_model_module_version": "1.5.0",
            "_view_count": null,
            "_view_module_version": "1.5.0",
            "box_style": "",
            "layout": "IPY_MODEL_e5cb8ad6c1bf48dc9430b80a76517a5d",
            "_model_module": "@jupyter-widgets/controls",
            "children": [
              "IPY_MODEL_dcef0c30ac34417ebbe0b6046a7573e3",
              "IPY_MODEL_4ffbb53f610748ae94920e15aee2a229"
            ]
          }
        },
        "e5cb8ad6c1bf48dc9430b80a76517a5d": {
          "model_module": "@jupyter-widgets/base",
          "model_name": "LayoutModel",
          "state": {
            "_view_name": "LayoutView",
            "grid_template_rows": null,
            "right": null,
            "justify_content": null,
            "_view_module": "@jupyter-widgets/base",
            "overflow": null,
            "_model_module_version": "1.2.0",
            "_view_count": null,
            "flex_flow": null,
            "width": null,
            "min_width": null,
            "border": null,
            "align_items": null,
            "bottom": null,
            "_model_module": "@jupyter-widgets/base",
            "top": null,
            "grid_column": null,
            "overflow_y": null,
            "overflow_x": null,
            "grid_auto_flow": null,
            "grid_area": null,
            "grid_template_columns": null,
            "flex": null,
            "_model_name": "LayoutModel",
            "justify_items": null,
            "grid_row": null,
            "max_height": null,
            "align_content": null,
            "visibility": null,
            "align_self": null,
            "height": null,
            "min_height": null,
            "padding": null,
            "grid_auto_rows": null,
            "grid_gap": null,
            "max_width": null,
            "order": null,
            "_view_module_version": "1.2.0",
            "grid_template_areas": null,
            "object_position": null,
            "object_fit": null,
            "grid_auto_columns": null,
            "margin": null,
            "display": null,
            "left": null
          }
        },
        "dcef0c30ac34417ebbe0b6046a7573e3": {
          "model_module": "@jupyter-widgets/controls",
          "model_name": "FloatProgressModel",
          "state": {
            "_view_name": "ProgressView",
            "style": "IPY_MODEL_0c8f134341b24aeea7002590bca2fbc2",
            "_dom_classes": [],
            "description": "Training  : 100%",
            "_model_name": "FloatProgressModel",
            "bar_style": "success",
            "max": 2,
            "_view_module": "@jupyter-widgets/controls",
            "_model_module_version": "1.5.0",
            "value": 2,
            "_view_count": null,
            "_view_module_version": "1.5.0",
            "orientation": "horizontal",
            "min": 0,
            "description_tooltip": null,
            "_model_module": "@jupyter-widgets/controls",
            "layout": "IPY_MODEL_f826c1515a2645bdb4395a7eb68aa05c"
          }
        },
        "4ffbb53f610748ae94920e15aee2a229": {
          "model_module": "@jupyter-widgets/controls",
          "model_name": "HTMLModel",
          "state": {
            "_view_name": "HTMLView",
            "style": "IPY_MODEL_47e9d4fcfde8468baf0bd300101eae06",
            "_dom_classes": [],
            "description": "",
            "_model_name": "HTMLModel",
            "placeholder": "​",
            "_view_module": "@jupyter-widgets/controls",
            "_model_module_version": "1.5.0",
            "value": " 2/2 [02:39&lt;00:00, 79.71s/it, loss=0.6]",
            "_view_count": null,
            "_view_module_version": "1.5.0",
            "description_tooltip": null,
            "_model_module": "@jupyter-widgets/controls",
            "layout": "IPY_MODEL_584c4850a2d34a81ac873c6a17e7aa09"
          }
        },
        "0c8f134341b24aeea7002590bca2fbc2": {
          "model_module": "@jupyter-widgets/controls",
          "model_name": "ProgressStyleModel",
          "state": {
            "_view_name": "StyleView",
            "_model_name": "ProgressStyleModel",
            "description_width": "initial",
            "_view_module": "@jupyter-widgets/base",
            "_model_module_version": "1.5.0",
            "_view_count": null,
            "_view_module_version": "1.2.0",
            "bar_color": null,
            "_model_module": "@jupyter-widgets/controls"
          }
        },
        "f826c1515a2645bdb4395a7eb68aa05c": {
          "model_module": "@jupyter-widgets/base",
          "model_name": "LayoutModel",
          "state": {
            "_view_name": "LayoutView",
            "grid_template_rows": null,
            "right": null,
            "justify_content": null,
            "_view_module": "@jupyter-widgets/base",
            "overflow": null,
            "_model_module_version": "1.2.0",
            "_view_count": null,
            "flex_flow": null,
            "width": null,
            "min_width": null,
            "border": null,
            "align_items": null,
            "bottom": null,
            "_model_module": "@jupyter-widgets/base",
            "top": null,
            "grid_column": null,
            "overflow_y": null,
            "overflow_x": null,
            "grid_auto_flow": null,
            "grid_area": null,
            "grid_template_columns": null,
            "flex": null,
            "_model_name": "LayoutModel",
            "justify_items": null,
            "grid_row": null,
            "max_height": null,
            "align_content": null,
            "visibility": null,
            "align_self": null,
            "height": null,
            "min_height": null,
            "padding": null,
            "grid_auto_rows": null,
            "grid_gap": null,
            "max_width": null,
            "order": null,
            "_view_module_version": "1.2.0",
            "grid_template_areas": null,
            "object_position": null,
            "object_fit": null,
            "grid_auto_columns": null,
            "margin": null,
            "display": null,
            "left": null
          }
        },
        "47e9d4fcfde8468baf0bd300101eae06": {
          "model_module": "@jupyter-widgets/controls",
          "model_name": "DescriptionStyleModel",
          "state": {
            "_view_name": "StyleView",
            "_model_name": "DescriptionStyleModel",
            "description_width": "",
            "_view_module": "@jupyter-widgets/base",
            "_model_module_version": "1.5.0",
            "_view_count": null,
            "_view_module_version": "1.2.0",
            "_model_module": "@jupyter-widgets/controls"
          }
        },
        "584c4850a2d34a81ac873c6a17e7aa09": {
          "model_module": "@jupyter-widgets/base",
          "model_name": "LayoutModel",
          "state": {
            "_view_name": "LayoutView",
            "grid_template_rows": null,
            "right": null,
            "justify_content": null,
            "_view_module": "@jupyter-widgets/base",
            "overflow": null,
            "_model_module_version": "1.2.0",
            "_view_count": null,
            "flex_flow": null,
            "width": null,
            "min_width": null,
            "border": null,
            "align_items": null,
            "bottom": null,
            "_model_module": "@jupyter-widgets/base",
            "top": null,
            "grid_column": null,
            "overflow_y": null,
            "overflow_x": null,
            "grid_auto_flow": null,
            "grid_area": null,
            "grid_template_columns": null,
            "flex": null,
            "_model_name": "LayoutModel",
            "justify_items": null,
            "grid_row": null,
            "max_height": null,
            "align_content": null,
            "visibility": null,
            "align_self": null,
            "height": null,
            "min_height": null,
            "padding": null,
            "grid_auto_rows": null,
            "grid_gap": null,
            "max_width": null,
            "order": null,
            "_view_module_version": "1.2.0",
            "grid_template_areas": null,
            "object_position": null,
            "object_fit": null,
            "grid_auto_columns": null,
            "margin": null,
            "display": null,
            "left": null
          }
        },
        "97db82bd9e1a48f7b91ed106a9ba2a05": {
          "model_module": "@jupyter-widgets/controls",
          "model_name": "HBoxModel",
          "state": {
            "_view_name": "HBoxView",
            "_dom_classes": [],
            "_model_name": "HBoxModel",
            "_view_module": "@jupyter-widgets/controls",
            "_model_module_version": "1.5.0",
            "_view_count": null,
            "_view_module_version": "1.5.0",
            "box_style": "",
            "layout": "IPY_MODEL_e7e175a4302f433296f1053f296dc6ce",
            "_model_module": "@jupyter-widgets/controls",
            "children": [
              "IPY_MODEL_92d3ddcda22d49df84f2e4d1a9880ef5",
              "IPY_MODEL_2383cd4895cb4314b9a80cc8dd35adf5"
            ]
          }
        },
        "e7e175a4302f433296f1053f296dc6ce": {
          "model_module": "@jupyter-widgets/base",
          "model_name": "LayoutModel",
          "state": {
            "_view_name": "LayoutView",
            "grid_template_rows": null,
            "right": null,
            "justify_content": null,
            "_view_module": "@jupyter-widgets/base",
            "overflow": null,
            "_model_module_version": "1.2.0",
            "_view_count": null,
            "flex_flow": null,
            "width": null,
            "min_width": null,
            "border": null,
            "align_items": null,
            "bottom": null,
            "_model_module": "@jupyter-widgets/base",
            "top": null,
            "grid_column": null,
            "overflow_y": null,
            "overflow_x": null,
            "grid_auto_flow": null,
            "grid_area": null,
            "grid_template_columns": null,
            "flex": null,
            "_model_name": "LayoutModel",
            "justify_items": null,
            "grid_row": null,
            "max_height": null,
            "align_content": null,
            "visibility": null,
            "align_self": null,
            "height": null,
            "min_height": null,
            "padding": null,
            "grid_auto_rows": null,
            "grid_gap": null,
            "max_width": null,
            "order": null,
            "_view_module_version": "1.2.0",
            "grid_template_areas": null,
            "object_position": null,
            "object_fit": null,
            "grid_auto_columns": null,
            "margin": null,
            "display": null,
            "left": null
          }
        },
        "92d3ddcda22d49df84f2e4d1a9880ef5": {
          "model_module": "@jupyter-widgets/controls",
          "model_name": "FloatProgressModel",
          "state": {
            "_view_name": "ProgressView",
            "style": "IPY_MODEL_9102fa7e725647559b5dd1bd4ebb5085",
            "_dom_classes": [],
            "description": "Validating: 100%",
            "_model_name": "FloatProgressModel",
            "bar_style": "success",
            "max": 1,
            "_view_module": "@jupyter-widgets/controls",
            "_model_module_version": "1.5.0",
            "value": 1,
            "_view_count": null,
            "_view_module_version": "1.5.0",
            "orientation": "horizontal",
            "min": 0,
            "description_tooltip": null,
            "_model_module": "@jupyter-widgets/controls",
            "layout": "IPY_MODEL_efee5d38e5b746c09fe68c163f9a6103"
          }
        },
        "2383cd4895cb4314b9a80cc8dd35adf5": {
          "model_module": "@jupyter-widgets/controls",
          "model_name": "HTMLModel",
          "state": {
            "_view_name": "HTMLView",
            "style": "IPY_MODEL_cfbbf3b2127143a2b7e1b5e372aeb9e3",
            "_dom_classes": [],
            "description": "",
            "_model_name": "HTMLModel",
            "placeholder": "​",
            "_view_module": "@jupyter-widgets/controls",
            "_model_module_version": "1.5.0",
            "value": " 1/1 [00:03&lt;00:00,  3.85s/it]",
            "_view_count": null,
            "_view_module_version": "1.5.0",
            "description_tooltip": null,
            "_model_module": "@jupyter-widgets/controls",
            "layout": "IPY_MODEL_69d6fdc7407f43aeb7d43bdcde09ec96"
          }
        },
        "9102fa7e725647559b5dd1bd4ebb5085": {
          "model_module": "@jupyter-widgets/controls",
          "model_name": "ProgressStyleModel",
          "state": {
            "_view_name": "StyleView",
            "_model_name": "ProgressStyleModel",
            "description_width": "initial",
            "_view_module": "@jupyter-widgets/base",
            "_model_module_version": "1.5.0",
            "_view_count": null,
            "_view_module_version": "1.2.0",
            "bar_color": null,
            "_model_module": "@jupyter-widgets/controls"
          }
        },
        "efee5d38e5b746c09fe68c163f9a6103": {
          "model_module": "@jupyter-widgets/base",
          "model_name": "LayoutModel",
          "state": {
            "_view_name": "LayoutView",
            "grid_template_rows": null,
            "right": null,
            "justify_content": null,
            "_view_module": "@jupyter-widgets/base",
            "overflow": null,
            "_model_module_version": "1.2.0",
            "_view_count": null,
            "flex_flow": null,
            "width": null,
            "min_width": null,
            "border": null,
            "align_items": null,
            "bottom": null,
            "_model_module": "@jupyter-widgets/base",
            "top": null,
            "grid_column": null,
            "overflow_y": null,
            "overflow_x": null,
            "grid_auto_flow": null,
            "grid_area": null,
            "grid_template_columns": null,
            "flex": null,
            "_model_name": "LayoutModel",
            "justify_items": null,
            "grid_row": null,
            "max_height": null,
            "align_content": null,
            "visibility": null,
            "align_self": null,
            "height": null,
            "min_height": null,
            "padding": null,
            "grid_auto_rows": null,
            "grid_gap": null,
            "max_width": null,
            "order": null,
            "_view_module_version": "1.2.0",
            "grid_template_areas": null,
            "object_position": null,
            "object_fit": null,
            "grid_auto_columns": null,
            "margin": null,
            "display": null,
            "left": null
          }
        },
        "cfbbf3b2127143a2b7e1b5e372aeb9e3": {
          "model_module": "@jupyter-widgets/controls",
          "model_name": "DescriptionStyleModel",
          "state": {
            "_view_name": "StyleView",
            "_model_name": "DescriptionStyleModel",
            "description_width": "",
            "_view_module": "@jupyter-widgets/base",
            "_model_module_version": "1.5.0",
            "_view_count": null,
            "_view_module_version": "1.2.0",
            "_model_module": "@jupyter-widgets/controls"
          }
        },
        "69d6fdc7407f43aeb7d43bdcde09ec96": {
          "model_module": "@jupyter-widgets/base",
          "model_name": "LayoutModel",
          "state": {
            "_view_name": "LayoutView",
            "grid_template_rows": null,
            "right": null,
            "justify_content": null,
            "_view_module": "@jupyter-widgets/base",
            "overflow": null,
            "_model_module_version": "1.2.0",
            "_view_count": null,
            "flex_flow": null,
            "width": null,
            "min_width": null,
            "border": null,
            "align_items": null,
            "bottom": null,
            "_model_module": "@jupyter-widgets/base",
            "top": null,
            "grid_column": null,
            "overflow_y": null,
            "overflow_x": null,
            "grid_auto_flow": null,
            "grid_area": null,
            "grid_template_columns": null,
            "flex": null,
            "_model_name": "LayoutModel",
            "justify_items": null,
            "grid_row": null,
            "max_height": null,
            "align_content": null,
            "visibility": null,
            "align_self": null,
            "height": null,
            "min_height": null,
            "padding": null,
            "grid_auto_rows": null,
            "grid_gap": null,
            "max_width": null,
            "order": null,
            "_view_module_version": "1.2.0",
            "grid_template_areas": null,
            "object_position": null,
            "object_fit": null,
            "grid_auto_columns": null,
            "margin": null,
            "display": null,
            "left": null
          }
        },
        "7e5ff9a3e1b545a69bb38763779211be": {
          "model_module": "@jupyter-widgets/controls",
          "model_name": "HBoxModel",
          "state": {
            "_view_name": "HBoxView",
            "_dom_classes": [],
            "_model_name": "HBoxModel",
            "_view_module": "@jupyter-widgets/controls",
            "_model_module_version": "1.5.0",
            "_view_count": null,
            "_view_module_version": "1.5.0",
            "box_style": "",
            "layout": "IPY_MODEL_68a4f1a4342e469c8e753bd92746b9ce",
            "_model_module": "@jupyter-widgets/controls",
            "children": [
              "IPY_MODEL_2d30fd85f63243a2a43fc65bece95f69",
              "IPY_MODEL_b0bf3d564d644a049a142ca04ae3e500"
            ]
          }
        },
        "68a4f1a4342e469c8e753bd92746b9ce": {
          "model_module": "@jupyter-widgets/base",
          "model_name": "LayoutModel",
          "state": {
            "_view_name": "LayoutView",
            "grid_template_rows": null,
            "right": null,
            "justify_content": null,
            "_view_module": "@jupyter-widgets/base",
            "overflow": null,
            "_model_module_version": "1.2.0",
            "_view_count": null,
            "flex_flow": null,
            "width": null,
            "min_width": null,
            "border": null,
            "align_items": null,
            "bottom": null,
            "_model_module": "@jupyter-widgets/base",
            "top": null,
            "grid_column": null,
            "overflow_y": null,
            "overflow_x": null,
            "grid_auto_flow": null,
            "grid_area": null,
            "grid_template_columns": null,
            "flex": null,
            "_model_name": "LayoutModel",
            "justify_items": null,
            "grid_row": null,
            "max_height": null,
            "align_content": null,
            "visibility": null,
            "align_self": null,
            "height": null,
            "min_height": null,
            "padding": null,
            "grid_auto_rows": null,
            "grid_gap": null,
            "max_width": null,
            "order": null,
            "_view_module_version": "1.2.0",
            "grid_template_areas": null,
            "object_position": null,
            "object_fit": null,
            "grid_auto_columns": null,
            "margin": null,
            "display": null,
            "left": null
          }
        },
        "2d30fd85f63243a2a43fc65bece95f69": {
          "model_module": "@jupyter-widgets/controls",
          "model_name": "FloatProgressModel",
          "state": {
            "_view_name": "ProgressView",
            "style": "IPY_MODEL_64eea040e8bb45f89200f7e720a0321e",
            "_dom_classes": [],
            "description": "Training  : 100%",
            "_model_name": "FloatProgressModel",
            "bar_style": "success",
            "max": 2,
            "_view_module": "@jupyter-widgets/controls",
            "_model_module_version": "1.5.0",
            "value": 2,
            "_view_count": null,
            "_view_module_version": "1.5.0",
            "orientation": "horizontal",
            "min": 0,
            "description_tooltip": null,
            "_model_module": "@jupyter-widgets/controls",
            "layout": "IPY_MODEL_aff1662173484d4a9c3d5f19348f5c82"
          }
        },
        "b0bf3d564d644a049a142ca04ae3e500": {
          "model_module": "@jupyter-widgets/controls",
          "model_name": "HTMLModel",
          "state": {
            "_view_name": "HTMLView",
            "style": "IPY_MODEL_ac7b7d257dcc495eaef6830d76782314",
            "_dom_classes": [],
            "description": "",
            "_model_name": "HTMLModel",
            "placeholder": "​",
            "_view_module": "@jupyter-widgets/controls",
            "_model_module_version": "1.5.0",
            "value": " 2/2 [01:22&lt;00:00, 41.32s/it, loss=0.555]",
            "_view_count": null,
            "_view_module_version": "1.5.0",
            "description_tooltip": null,
            "_model_module": "@jupyter-widgets/controls",
            "layout": "IPY_MODEL_9df83d1d3d9f4c0cadc7e98ce6e6ae78"
          }
        },
        "64eea040e8bb45f89200f7e720a0321e": {
          "model_module": "@jupyter-widgets/controls",
          "model_name": "ProgressStyleModel",
          "state": {
            "_view_name": "StyleView",
            "_model_name": "ProgressStyleModel",
            "description_width": "initial",
            "_view_module": "@jupyter-widgets/base",
            "_model_module_version": "1.5.0",
            "_view_count": null,
            "_view_module_version": "1.2.0",
            "bar_color": null,
            "_model_module": "@jupyter-widgets/controls"
          }
        },
        "aff1662173484d4a9c3d5f19348f5c82": {
          "model_module": "@jupyter-widgets/base",
          "model_name": "LayoutModel",
          "state": {
            "_view_name": "LayoutView",
            "grid_template_rows": null,
            "right": null,
            "justify_content": null,
            "_view_module": "@jupyter-widgets/base",
            "overflow": null,
            "_model_module_version": "1.2.0",
            "_view_count": null,
            "flex_flow": null,
            "width": null,
            "min_width": null,
            "border": null,
            "align_items": null,
            "bottom": null,
            "_model_module": "@jupyter-widgets/base",
            "top": null,
            "grid_column": null,
            "overflow_y": null,
            "overflow_x": null,
            "grid_auto_flow": null,
            "grid_area": null,
            "grid_template_columns": null,
            "flex": null,
            "_model_name": "LayoutModel",
            "justify_items": null,
            "grid_row": null,
            "max_height": null,
            "align_content": null,
            "visibility": null,
            "align_self": null,
            "height": null,
            "min_height": null,
            "padding": null,
            "grid_auto_rows": null,
            "grid_gap": null,
            "max_width": null,
            "order": null,
            "_view_module_version": "1.2.0",
            "grid_template_areas": null,
            "object_position": null,
            "object_fit": null,
            "grid_auto_columns": null,
            "margin": null,
            "display": null,
            "left": null
          }
        },
        "ac7b7d257dcc495eaef6830d76782314": {
          "model_module": "@jupyter-widgets/controls",
          "model_name": "DescriptionStyleModel",
          "state": {
            "_view_name": "StyleView",
            "_model_name": "DescriptionStyleModel",
            "description_width": "",
            "_view_module": "@jupyter-widgets/base",
            "_model_module_version": "1.5.0",
            "_view_count": null,
            "_view_module_version": "1.2.0",
            "_model_module": "@jupyter-widgets/controls"
          }
        },
        "9df83d1d3d9f4c0cadc7e98ce6e6ae78": {
          "model_module": "@jupyter-widgets/base",
          "model_name": "LayoutModel",
          "state": {
            "_view_name": "LayoutView",
            "grid_template_rows": null,
            "right": null,
            "justify_content": null,
            "_view_module": "@jupyter-widgets/base",
            "overflow": null,
            "_model_module_version": "1.2.0",
            "_view_count": null,
            "flex_flow": null,
            "width": null,
            "min_width": null,
            "border": null,
            "align_items": null,
            "bottom": null,
            "_model_module": "@jupyter-widgets/base",
            "top": null,
            "grid_column": null,
            "overflow_y": null,
            "overflow_x": null,
            "grid_auto_flow": null,
            "grid_area": null,
            "grid_template_columns": null,
            "flex": null,
            "_model_name": "LayoutModel",
            "justify_items": null,
            "grid_row": null,
            "max_height": null,
            "align_content": null,
            "visibility": null,
            "align_self": null,
            "height": null,
            "min_height": null,
            "padding": null,
            "grid_auto_rows": null,
            "grid_gap": null,
            "max_width": null,
            "order": null,
            "_view_module_version": "1.2.0",
            "grid_template_areas": null,
            "object_position": null,
            "object_fit": null,
            "grid_auto_columns": null,
            "margin": null,
            "display": null,
            "left": null
          }
        },
        "57677991e2ed47999a1c3c7b804914ef": {
          "model_module": "@jupyter-widgets/controls",
          "model_name": "HBoxModel",
          "state": {
            "_view_name": "HBoxView",
            "_dom_classes": [],
            "_model_name": "HBoxModel",
            "_view_module": "@jupyter-widgets/controls",
            "_model_module_version": "1.5.0",
            "_view_count": null,
            "_view_module_version": "1.5.0",
            "box_style": "",
            "layout": "IPY_MODEL_d0339ffb7f7e4ad0934e5f6af06e2f71",
            "_model_module": "@jupyter-widgets/controls",
            "children": [
              "IPY_MODEL_1d9ce393e73246a9a799e26b69ed6ede",
              "IPY_MODEL_d5ef56898f374a0b9db7d3b8ca736b36"
            ]
          }
        },
        "d0339ffb7f7e4ad0934e5f6af06e2f71": {
          "model_module": "@jupyter-widgets/base",
          "model_name": "LayoutModel",
          "state": {
            "_view_name": "LayoutView",
            "grid_template_rows": null,
            "right": null,
            "justify_content": null,
            "_view_module": "@jupyter-widgets/base",
            "overflow": null,
            "_model_module_version": "1.2.0",
            "_view_count": null,
            "flex_flow": null,
            "width": null,
            "min_width": null,
            "border": null,
            "align_items": null,
            "bottom": null,
            "_model_module": "@jupyter-widgets/base",
            "top": null,
            "grid_column": null,
            "overflow_y": null,
            "overflow_x": null,
            "grid_auto_flow": null,
            "grid_area": null,
            "grid_template_columns": null,
            "flex": null,
            "_model_name": "LayoutModel",
            "justify_items": null,
            "grid_row": null,
            "max_height": null,
            "align_content": null,
            "visibility": null,
            "align_self": null,
            "height": null,
            "min_height": null,
            "padding": null,
            "grid_auto_rows": null,
            "grid_gap": null,
            "max_width": null,
            "order": null,
            "_view_module_version": "1.2.0",
            "grid_template_areas": null,
            "object_position": null,
            "object_fit": null,
            "grid_auto_columns": null,
            "margin": null,
            "display": null,
            "left": null
          }
        },
        "1d9ce393e73246a9a799e26b69ed6ede": {
          "model_module": "@jupyter-widgets/controls",
          "model_name": "FloatProgressModel",
          "state": {
            "_view_name": "ProgressView",
            "style": "IPY_MODEL_65cafe2b95c34dd0811bf8bfaac8572c",
            "_dom_classes": [],
            "description": "Validating: 100%",
            "_model_name": "FloatProgressModel",
            "bar_style": "success",
            "max": 1,
            "_view_module": "@jupyter-widgets/controls",
            "_model_module_version": "1.5.0",
            "value": 1,
            "_view_count": null,
            "_view_module_version": "1.5.0",
            "orientation": "horizontal",
            "min": 0,
            "description_tooltip": null,
            "_model_module": "@jupyter-widgets/controls",
            "layout": "IPY_MODEL_4a20b68d76194bb991b68c0388e26686"
          }
        },
        "d5ef56898f374a0b9db7d3b8ca736b36": {
          "model_module": "@jupyter-widgets/controls",
          "model_name": "HTMLModel",
          "state": {
            "_view_name": "HTMLView",
            "style": "IPY_MODEL_86e8dc6ec3034a1bbf6e102423166e92",
            "_dom_classes": [],
            "description": "",
            "_model_name": "HTMLModel",
            "placeholder": "​",
            "_view_module": "@jupyter-widgets/controls",
            "_model_module_version": "1.5.0",
            "value": " 1/1 [00:03&lt;00:00,  3.55s/it]",
            "_view_count": null,
            "_view_module_version": "1.5.0",
            "description_tooltip": null,
            "_model_module": "@jupyter-widgets/controls",
            "layout": "IPY_MODEL_5b2bd44fe33341528937b2b9500a98cf"
          }
        },
        "65cafe2b95c34dd0811bf8bfaac8572c": {
          "model_module": "@jupyter-widgets/controls",
          "model_name": "ProgressStyleModel",
          "state": {
            "_view_name": "StyleView",
            "_model_name": "ProgressStyleModel",
            "description_width": "initial",
            "_view_module": "@jupyter-widgets/base",
            "_model_module_version": "1.5.0",
            "_view_count": null,
            "_view_module_version": "1.2.0",
            "bar_color": null,
            "_model_module": "@jupyter-widgets/controls"
          }
        },
        "4a20b68d76194bb991b68c0388e26686": {
          "model_module": "@jupyter-widgets/base",
          "model_name": "LayoutModel",
          "state": {
            "_view_name": "LayoutView",
            "grid_template_rows": null,
            "right": null,
            "justify_content": null,
            "_view_module": "@jupyter-widgets/base",
            "overflow": null,
            "_model_module_version": "1.2.0",
            "_view_count": null,
            "flex_flow": null,
            "width": null,
            "min_width": null,
            "border": null,
            "align_items": null,
            "bottom": null,
            "_model_module": "@jupyter-widgets/base",
            "top": null,
            "grid_column": null,
            "overflow_y": null,
            "overflow_x": null,
            "grid_auto_flow": null,
            "grid_area": null,
            "grid_template_columns": null,
            "flex": null,
            "_model_name": "LayoutModel",
            "justify_items": null,
            "grid_row": null,
            "max_height": null,
            "align_content": null,
            "visibility": null,
            "align_self": null,
            "height": null,
            "min_height": null,
            "padding": null,
            "grid_auto_rows": null,
            "grid_gap": null,
            "max_width": null,
            "order": null,
            "_view_module_version": "1.2.0",
            "grid_template_areas": null,
            "object_position": null,
            "object_fit": null,
            "grid_auto_columns": null,
            "margin": null,
            "display": null,
            "left": null
          }
        },
        "86e8dc6ec3034a1bbf6e102423166e92": {
          "model_module": "@jupyter-widgets/controls",
          "model_name": "DescriptionStyleModel",
          "state": {
            "_view_name": "StyleView",
            "_model_name": "DescriptionStyleModel",
            "description_width": "",
            "_view_module": "@jupyter-widgets/base",
            "_model_module_version": "1.5.0",
            "_view_count": null,
            "_view_module_version": "1.2.0",
            "_model_module": "@jupyter-widgets/controls"
          }
        },
        "5b2bd44fe33341528937b2b9500a98cf": {
          "model_module": "@jupyter-widgets/base",
          "model_name": "LayoutModel",
          "state": {
            "_view_name": "LayoutView",
            "grid_template_rows": null,
            "right": null,
            "justify_content": null,
            "_view_module": "@jupyter-widgets/base",
            "overflow": null,
            "_model_module_version": "1.2.0",
            "_view_count": null,
            "flex_flow": null,
            "width": null,
            "min_width": null,
            "border": null,
            "align_items": null,
            "bottom": null,
            "_model_module": "@jupyter-widgets/base",
            "top": null,
            "grid_column": null,
            "overflow_y": null,
            "overflow_x": null,
            "grid_auto_flow": null,
            "grid_area": null,
            "grid_template_columns": null,
            "flex": null,
            "_model_name": "LayoutModel",
            "justify_items": null,
            "grid_row": null,
            "max_height": null,
            "align_content": null,
            "visibility": null,
            "align_self": null,
            "height": null,
            "min_height": null,
            "padding": null,
            "grid_auto_rows": null,
            "grid_gap": null,
            "max_width": null,
            "order": null,
            "_view_module_version": "1.2.0",
            "grid_template_areas": null,
            "object_position": null,
            "object_fit": null,
            "grid_auto_columns": null,
            "margin": null,
            "display": null,
            "left": null
          }
        },
        "1dc32bcfe6b141ce8125db51f421403e": {
          "model_module": "@jupyter-widgets/controls",
          "model_name": "HBoxModel",
          "state": {
            "_view_name": "HBoxView",
            "_dom_classes": [],
            "_model_name": "HBoxModel",
            "_view_module": "@jupyter-widgets/controls",
            "_model_module_version": "1.5.0",
            "_view_count": null,
            "_view_module_version": "1.5.0",
            "box_style": "",
            "layout": "IPY_MODEL_dda43119f64e4a67a56767ae1c25ccff",
            "_model_module": "@jupyter-widgets/controls",
            "children": [
              "IPY_MODEL_4ff610ead43146a39db13b6175eae18b",
              "IPY_MODEL_50c506dea88c448499e3ed55620c743a"
            ]
          }
        },
        "dda43119f64e4a67a56767ae1c25ccff": {
          "model_module": "@jupyter-widgets/base",
          "model_name": "LayoutModel",
          "state": {
            "_view_name": "LayoutView",
            "grid_template_rows": null,
            "right": null,
            "justify_content": null,
            "_view_module": "@jupyter-widgets/base",
            "overflow": null,
            "_model_module_version": "1.2.0",
            "_view_count": null,
            "flex_flow": null,
            "width": null,
            "min_width": null,
            "border": null,
            "align_items": null,
            "bottom": null,
            "_model_module": "@jupyter-widgets/base",
            "top": null,
            "grid_column": null,
            "overflow_y": null,
            "overflow_x": null,
            "grid_auto_flow": null,
            "grid_area": null,
            "grid_template_columns": null,
            "flex": null,
            "_model_name": "LayoutModel",
            "justify_items": null,
            "grid_row": null,
            "max_height": null,
            "align_content": null,
            "visibility": null,
            "align_self": null,
            "height": null,
            "min_height": null,
            "padding": null,
            "grid_auto_rows": null,
            "grid_gap": null,
            "max_width": null,
            "order": null,
            "_view_module_version": "1.2.0",
            "grid_template_areas": null,
            "object_position": null,
            "object_fit": null,
            "grid_auto_columns": null,
            "margin": null,
            "display": null,
            "left": null
          }
        },
        "4ff610ead43146a39db13b6175eae18b": {
          "model_module": "@jupyter-widgets/controls",
          "model_name": "FloatProgressModel",
          "state": {
            "_view_name": "ProgressView",
            "style": "IPY_MODEL_526c588059904697941026f069d3fe99",
            "_dom_classes": [],
            "description": "Testing: 100%",
            "_model_name": "FloatProgressModel",
            "bar_style": "success",
            "max": 1,
            "_view_module": "@jupyter-widgets/controls",
            "_model_module_version": "1.5.0",
            "value": 1,
            "_view_count": null,
            "_view_module_version": "1.5.0",
            "orientation": "horizontal",
            "min": 0,
            "description_tooltip": null,
            "_model_module": "@jupyter-widgets/controls",
            "layout": "IPY_MODEL_c48b182001a34c9c8e61ad4164545d0a"
          }
        },
        "50c506dea88c448499e3ed55620c743a": {
          "model_module": "@jupyter-widgets/controls",
          "model_name": "HTMLModel",
          "state": {
            "_view_name": "HTMLView",
            "style": "IPY_MODEL_55a43e145b12401e8eba901a60cf4b29",
            "_dom_classes": [],
            "description": "",
            "_model_name": "HTMLModel",
            "placeholder": "​",
            "_view_module": "@jupyter-widgets/controls",
            "_model_module_version": "1.5.0",
            "value": " 1/1 [00:04&lt;00:00,  4.31s/it]",
            "_view_count": null,
            "_view_module_version": "1.5.0",
            "description_tooltip": null,
            "_model_module": "@jupyter-widgets/controls",
            "layout": "IPY_MODEL_9db69e1500aa478fae61183b4facbd1e"
          }
        },
        "526c588059904697941026f069d3fe99": {
          "model_module": "@jupyter-widgets/controls",
          "model_name": "ProgressStyleModel",
          "state": {
            "_view_name": "StyleView",
            "_model_name": "ProgressStyleModel",
            "description_width": "initial",
            "_view_module": "@jupyter-widgets/base",
            "_model_module_version": "1.5.0",
            "_view_count": null,
            "_view_module_version": "1.2.0",
            "bar_color": null,
            "_model_module": "@jupyter-widgets/controls"
          }
        },
        "c48b182001a34c9c8e61ad4164545d0a": {
          "model_module": "@jupyter-widgets/base",
          "model_name": "LayoutModel",
          "state": {
            "_view_name": "LayoutView",
            "grid_template_rows": null,
            "right": null,
            "justify_content": null,
            "_view_module": "@jupyter-widgets/base",
            "overflow": null,
            "_model_module_version": "1.2.0",
            "_view_count": null,
            "flex_flow": null,
            "width": null,
            "min_width": null,
            "border": null,
            "align_items": null,
            "bottom": null,
            "_model_module": "@jupyter-widgets/base",
            "top": null,
            "grid_column": null,
            "overflow_y": null,
            "overflow_x": null,
            "grid_auto_flow": null,
            "grid_area": null,
            "grid_template_columns": null,
            "flex": null,
            "_model_name": "LayoutModel",
            "justify_items": null,
            "grid_row": null,
            "max_height": null,
            "align_content": null,
            "visibility": null,
            "align_self": null,
            "height": null,
            "min_height": null,
            "padding": null,
            "grid_auto_rows": null,
            "grid_gap": null,
            "max_width": null,
            "order": null,
            "_view_module_version": "1.2.0",
            "grid_template_areas": null,
            "object_position": null,
            "object_fit": null,
            "grid_auto_columns": null,
            "margin": null,
            "display": null,
            "left": null
          }
        },
        "55a43e145b12401e8eba901a60cf4b29": {
          "model_module": "@jupyter-widgets/controls",
          "model_name": "DescriptionStyleModel",
          "state": {
            "_view_name": "StyleView",
            "_model_name": "DescriptionStyleModel",
            "description_width": "",
            "_view_module": "@jupyter-widgets/base",
            "_model_module_version": "1.5.0",
            "_view_count": null,
            "_view_module_version": "1.2.0",
            "_model_module": "@jupyter-widgets/controls"
          }
        },
        "9db69e1500aa478fae61183b4facbd1e": {
          "model_module": "@jupyter-widgets/base",
          "model_name": "LayoutModel",
          "state": {
            "_view_name": "LayoutView",
            "grid_template_rows": null,
            "right": null,
            "justify_content": null,
            "_view_module": "@jupyter-widgets/base",
            "overflow": null,
            "_model_module_version": "1.2.0",
            "_view_count": null,
            "flex_flow": null,
            "width": null,
            "min_width": null,
            "border": null,
            "align_items": null,
            "bottom": null,
            "_model_module": "@jupyter-widgets/base",
            "top": null,
            "grid_column": null,
            "overflow_y": null,
            "overflow_x": null,
            "grid_auto_flow": null,
            "grid_area": null,
            "grid_template_columns": null,
            "flex": null,
            "_model_name": "LayoutModel",
            "justify_items": null,
            "grid_row": null,
            "max_height": null,
            "align_content": null,
            "visibility": null,
            "align_self": null,
            "height": null,
            "min_height": null,
            "padding": null,
            "grid_auto_rows": null,
            "grid_gap": null,
            "max_width": null,
            "order": null,
            "_view_module_version": "1.2.0",
            "grid_template_areas": null,
            "object_position": null,
            "object_fit": null,
            "grid_auto_columns": null,
            "margin": null,
            "display": null,
            "left": null
          }
        }
      }
    }
  },
  "cells": [
    {
      "cell_type": "markdown",
      "metadata": {
        "id": "view-in-github",
        "colab_type": "text"
      },
      "source": [
        "<a href=\"https://colab.research.google.com/github/mukamal/predicting_gme_stock_price/blob/main/Predicting_GME_Stock_Price.ipynb\" target=\"_parent\"><img src=\"https://colab.research.google.com/assets/colab-badge.svg\" alt=\"Open In Colab\"/></a>"
      ]
    },
    {
      "cell_type": "markdown",
      "metadata": {
        "id": "KoXt70ivQzY8"
      },
      "source": [
        "#Predicting Gamestop Stock Price using Reddit Sentiment Analysis\n",
        "\n",
        "A few months ago, some people got together on a subreddit named “WallStreetBets“- a group already infamous for manipulating securities and using harsh language. The people came up with a plan to artificially raise the stock price of GameStop. Which lead to quite an impact and Gamestop's stock price skyrocketed from 20 USD to more than 400 USD. The stock price was mainly rising due to coordinated groups of retail investors on Reddit who planned and decided to invest in it.\n",
        "\n",
        "For this project the dataset, Subreddit “WallStreetBets” Posts, available on Kaggle, was used that comprised a total of 31 thousand posts dating from 28th January,2021 till 21st April, 2021.\n"
      ]
    },
    {
      "cell_type": "markdown",
      "metadata": {
        "id": "vfyN5KuCoYo-"
      },
      "source": [
        "#Importing needed packages"
      ]
    },
    {
      "cell_type": "code",
      "metadata": {
        "colab": {
          "base_uri": "https://localhost:8080/"
        },
        "id": "5gTLs-Yep20g",
        "outputId": "1dcf04c0-abe7-4aa9-b7fa-802d8674b317"
      },
      "source": [
        "pip install yfinance"
      ],
      "execution_count": 28,
      "outputs": [
        {
          "output_type": "stream",
          "text": [
            "Requirement already satisfied: yfinance in /usr/local/lib/python3.7/dist-packages (0.1.59)\n",
            "Requirement already satisfied: lxml>=4.5.1 in /usr/local/lib/python3.7/dist-packages (from yfinance) (4.6.3)\n",
            "Requirement already satisfied: requests>=2.20 in /usr/local/lib/python3.7/dist-packages (from yfinance) (2.23.0)\n",
            "Requirement already satisfied: numpy>=1.15 in /usr/local/lib/python3.7/dist-packages (from yfinance) (1.19.5)\n",
            "Requirement already satisfied: pandas>=0.24 in /usr/local/lib/python3.7/dist-packages (from yfinance) (1.1.5)\n",
            "Requirement already satisfied: multitasking>=0.0.7 in /usr/local/lib/python3.7/dist-packages (from yfinance) (0.0.9)\n",
            "Requirement already satisfied: certifi>=2017.4.17 in /usr/local/lib/python3.7/dist-packages (from requests>=2.20->yfinance) (2020.12.5)\n",
            "Requirement already satisfied: idna<3,>=2.5 in /usr/local/lib/python3.7/dist-packages (from requests>=2.20->yfinance) (2.10)\n",
            "Requirement already satisfied: chardet<4,>=3.0.2 in /usr/local/lib/python3.7/dist-packages (from requests>=2.20->yfinance) (3.0.4)\n",
            "Requirement already satisfied: urllib3!=1.25.0,!=1.25.1,<1.26,>=1.21.1 in /usr/local/lib/python3.7/dist-packages (from requests>=2.20->yfinance) (1.24.3)\n",
            "Requirement already satisfied: pytz>=2017.2 in /usr/local/lib/python3.7/dist-packages (from pandas>=0.24->yfinance) (2018.9)\n",
            "Requirement already satisfied: python-dateutil>=2.7.3 in /usr/local/lib/python3.7/dist-packages (from pandas>=0.24->yfinance) (2.8.1)\n",
            "Requirement already satisfied: six>=1.5 in /usr/local/lib/python3.7/dist-packages (from python-dateutil>=2.7.3->pandas>=0.24->yfinance) (1.15.0)\n"
          ],
          "name": "stdout"
        }
      ]
    },
    {
      "cell_type": "code",
      "metadata": {
        "colab": {
          "base_uri": "https://localhost:8080/"
        },
        "id": "MC0T3VlSp4E5",
        "outputId": "e98d2253-2fd8-47df-bcc6-8818503ecb40"
      },
      "source": [
        "pip install yahoofinancials\n"
      ],
      "execution_count": 29,
      "outputs": [
        {
          "output_type": "stream",
          "text": [
            "Requirement already satisfied: yahoofinancials in /usr/local/lib/python3.7/dist-packages (1.6)\n",
            "Requirement already satisfied: beautifulsoup4 in /usr/local/lib/python3.7/dist-packages (from yahoofinancials) (4.6.3)\n",
            "Requirement already satisfied: pytz in /usr/local/lib/python3.7/dist-packages (from yahoofinancials) (2018.9)\n"
          ],
          "name": "stdout"
        }
      ]
    },
    {
      "cell_type": "code",
      "metadata": {
        "colab": {
          "base_uri": "https://localhost:8080/"
        },
        "id": "SGPQo0HUoB2Z",
        "outputId": "58b524c4-504f-4add-d612-b9ba9259d8dd"
      },
      "source": [
        "import re\n",
        "import yfinance as yf\n",
        "from yahoofinancials import YahooFinancials\n",
        "from nltk.sentiment.vader import SentimentIntensityAnalyzer as SIA\n",
        "import nltk\n",
        "from sklearn.feature_extraction.text import CountVectorizer,TfidfVectorizer\n",
        "from sklearn.decomposition import TruncatedSVD,PCA\n",
        "\n",
        "from nltk.stem import PorterStemmer\n",
        "nltk.download('stopwords')\n",
        "nltk.download('vader_lexicon')\n",
        "from wordcloud import WordCloud,STOPWORDS\n",
        "import spacy as sp\n",
        "\n",
        "nlps = sp.load('en')\n",
        "import numpy as np\n",
        "\n",
        "import matplotlib.pyplot as plt\n",
        "\n",
        "plt.rc('figure',figsize=(17,13))\n",
        "import seaborn as sns\n",
        "sns.set_style('darkgrid')\n",
        "\n",
        "from plotly.subplots import make_subplots\n",
        "\n",
        "import plotly.graph_objs as go\n",
        "\n",
        "import plotly.express as ex\n",
        "import matplotlib.dates as mdates\n",
        "from itertools import islice\n",
        "from collections import Counter\n",
        "from nltk.corpus import stopwords\n",
        "\n",
        "\n"
      ],
      "execution_count": 30,
      "outputs": [
        {
          "output_type": "stream",
          "text": [
            "[nltk_data] Downloading package stopwords to /root/nltk_data...\n",
            "[nltk_data]   Package stopwords is already up-to-date!\n",
            "[nltk_data] Downloading package vader_lexicon to /root/nltk_data...\n",
            "[nltk_data]   Package vader_lexicon is already up-to-date!\n"
          ],
          "name": "stdout"
        }
      ]
    },
    {
      "cell_type": "markdown",
      "metadata": {
        "id": "LgRwwFdsodmm"
      },
      "source": [
        "#Importing Dataset"
      ]
    },
    {
      "cell_type": "code",
      "metadata": {
        "colab": {
          "base_uri": "https://localhost:8080/",
          "height": 254
        },
        "id": "OM9y16Dsohbr",
        "outputId": "e057a87b-8ede-427c-ae99-9e5a7cb36b35"
      },
      "source": [
        "#Host your data in your Google drive and then mount to your Google drive. \n",
        "#You will be given an authorization code to finish the process\n",
        "\n",
        "from  google.colab import drive     \n",
        "drive.mount('/content/drive')\n",
        "\n",
        "\n",
        "# read in the training data. The dataset includes columns: title, body\n",
        "import pandas as pd\n",
        "df =pd.read_csv(\"/content/drive/My Drive/TM/reddit_wsb.csv\")\n",
        "df = df[pd.to_datetime(df.timestamp).dt.year>=2021]\n",
        "df.head(3)\n"
      ],
      "execution_count": 31,
      "outputs": [
        {
          "output_type": "stream",
          "text": [
            "Drive already mounted at /content/drive; to attempt to forcibly remount, call drive.mount(\"/content/drive\", force_remount=True).\n"
          ],
          "name": "stdout"
        },
        {
          "output_type": "execute_result",
          "data": {
            "text/html": [
              "<div>\n",
              "<style scoped>\n",
              "    .dataframe tbody tr th:only-of-type {\n",
              "        vertical-align: middle;\n",
              "    }\n",
              "\n",
              "    .dataframe tbody tr th {\n",
              "        vertical-align: top;\n",
              "    }\n",
              "\n",
              "    .dataframe thead th {\n",
              "        text-align: right;\n",
              "    }\n",
              "</style>\n",
              "<table border=\"1\" class=\"dataframe\">\n",
              "  <thead>\n",
              "    <tr style=\"text-align: right;\">\n",
              "      <th></th>\n",
              "      <th>title</th>\n",
              "      <th>score</th>\n",
              "      <th>id</th>\n",
              "      <th>url</th>\n",
              "      <th>comms_num</th>\n",
              "      <th>created</th>\n",
              "      <th>body</th>\n",
              "      <th>timestamp</th>\n",
              "    </tr>\n",
              "  </thead>\n",
              "  <tbody>\n",
              "    <tr>\n",
              "      <th>0</th>\n",
              "      <td>It's not about the money, it's about sending a...</td>\n",
              "      <td>55</td>\n",
              "      <td>l6ulcx</td>\n",
              "      <td>https://v.redd.it/6j75regs72e61</td>\n",
              "      <td>6</td>\n",
              "      <td>1.611863e+09</td>\n",
              "      <td>NaN</td>\n",
              "      <td>2021-01-28 21:37:41</td>\n",
              "    </tr>\n",
              "    <tr>\n",
              "      <th>1</th>\n",
              "      <td>Math Professor Scott Steiner says the numbers ...</td>\n",
              "      <td>110</td>\n",
              "      <td>l6uibd</td>\n",
              "      <td>https://v.redd.it/ah50lyny62e61</td>\n",
              "      <td>23</td>\n",
              "      <td>1.611862e+09</td>\n",
              "      <td>NaN</td>\n",
              "      <td>2021-01-28 21:32:10</td>\n",
              "    </tr>\n",
              "    <tr>\n",
              "      <th>2</th>\n",
              "      <td>Exit the system</td>\n",
              "      <td>0</td>\n",
              "      <td>l6uhhn</td>\n",
              "      <td>https://www.reddit.com/r/wallstreetbets/commen...</td>\n",
              "      <td>47</td>\n",
              "      <td>1.611862e+09</td>\n",
              "      <td>The CEO of NASDAQ pushed to halt trading “to g...</td>\n",
              "      <td>2021-01-28 21:30:35</td>\n",
              "    </tr>\n",
              "  </tbody>\n",
              "</table>\n",
              "</div>"
            ],
            "text/plain": [
              "                                               title  ...            timestamp\n",
              "0  It's not about the money, it's about sending a...  ...  2021-01-28 21:37:41\n",
              "1  Math Professor Scott Steiner says the numbers ...  ...  2021-01-28 21:32:10\n",
              "2                                    Exit the system  ...  2021-01-28 21:30:35\n",
              "\n",
              "[3 rows x 8 columns]"
            ]
          },
          "metadata": {
            "tags": []
          },
          "execution_count": 31
        }
      ]
    },
    {
      "cell_type": "markdown",
      "metadata": {
        "id": "3kKca8dBo00G"
      },
      "source": [
        "#EDA"
      ]
    },
    {
      "cell_type": "code",
      "metadata": {
        "colab": {
          "base_uri": "https://localhost:8080/",
          "height": 284
        },
        "id": "rDXxHkxgouB-",
        "outputId": "d6ea8b6b-b92c-4292-daed-30bbd955c339"
      },
      "source": [
        "# What is the average length of the title\n",
        "df1 = df.replace(np.nan, '', regex=True)\n",
        "\n",
        "df1['len_title']=df1['title'].apply(lambda x : len(x.split(' ')))\n",
        "df1['len_body']=df1['body'].apply(lambda x : len(x.split(' ')))\n",
        "df1.describe()"
      ],
      "execution_count": 32,
      "outputs": [
        {
          "output_type": "execute_result",
          "data": {
            "text/html": [
              "<div>\n",
              "<style scoped>\n",
              "    .dataframe tbody tr th:only-of-type {\n",
              "        vertical-align: middle;\n",
              "    }\n",
              "\n",
              "    .dataframe tbody tr th {\n",
              "        vertical-align: top;\n",
              "    }\n",
              "\n",
              "    .dataframe thead th {\n",
              "        text-align: right;\n",
              "    }\n",
              "</style>\n",
              "<table border=\"1\" class=\"dataframe\">\n",
              "  <thead>\n",
              "    <tr style=\"text-align: right;\">\n",
              "      <th></th>\n",
              "      <th>score</th>\n",
              "      <th>comms_num</th>\n",
              "      <th>created</th>\n",
              "      <th>len_title</th>\n",
              "      <th>len_body</th>\n",
              "    </tr>\n",
              "  </thead>\n",
              "  <tbody>\n",
              "    <tr>\n",
              "      <th>count</th>\n",
              "      <td>45422.000000</td>\n",
              "      <td>45422.000000</td>\n",
              "      <td>4.542200e+04</td>\n",
              "      <td>45422.000000</td>\n",
              "      <td>45422.000000</td>\n",
              "    </tr>\n",
              "    <tr>\n",
              "      <th>mean</th>\n",
              "      <td>1454.042909</td>\n",
              "      <td>237.456761</td>\n",
              "      <td>1.613026e+09</td>\n",
              "      <td>11.004954</td>\n",
              "      <td>85.546607</td>\n",
              "    </tr>\n",
              "    <tr>\n",
              "      <th>std</th>\n",
              "      <td>8449.893894</td>\n",
              "      <td>2571.269169</td>\n",
              "      <td>1.629286e+06</td>\n",
              "      <td>8.715191</td>\n",
              "      <td>253.700492</td>\n",
              "    </tr>\n",
              "    <tr>\n",
              "      <th>min</th>\n",
              "      <td>0.000000</td>\n",
              "      <td>0.000000</td>\n",
              "      <td>1.611818e+09</td>\n",
              "      <td>1.000000</td>\n",
              "      <td>1.000000</td>\n",
              "    </tr>\n",
              "    <tr>\n",
              "      <th>25%</th>\n",
              "      <td>1.000000</td>\n",
              "      <td>2.000000</td>\n",
              "      <td>1.611881e+09</td>\n",
              "      <td>5.000000</td>\n",
              "      <td>1.000000</td>\n",
              "    </tr>\n",
              "    <tr>\n",
              "      <th>50%</th>\n",
              "      <td>31.000000</td>\n",
              "      <td>13.000000</td>\n",
              "      <td>1.612313e+09</td>\n",
              "      <td>9.000000</td>\n",
              "      <td>1.000000</td>\n",
              "    </tr>\n",
              "    <tr>\n",
              "      <th>75%</th>\n",
              "      <td>190.000000</td>\n",
              "      <td>51.000000</td>\n",
              "      <td>1.613758e+09</td>\n",
              "      <td>14.000000</td>\n",
              "      <td>54.000000</td>\n",
              "    </tr>\n",
              "    <tr>\n",
              "      <th>max</th>\n",
              "      <td>348241.000000</td>\n",
              "      <td>93268.000000</td>\n",
              "      <td>1.619026e+09</td>\n",
              "      <td>66.000000</td>\n",
              "      <td>6301.000000</td>\n",
              "    </tr>\n",
              "  </tbody>\n",
              "</table>\n",
              "</div>"
            ],
            "text/plain": [
              "               score     comms_num       created     len_title      len_body\n",
              "count   45422.000000  45422.000000  4.542200e+04  45422.000000  45422.000000\n",
              "mean     1454.042909    237.456761  1.613026e+09     11.004954     85.546607\n",
              "std      8449.893894   2571.269169  1.629286e+06      8.715191    253.700492\n",
              "min         0.000000      0.000000  1.611818e+09      1.000000      1.000000\n",
              "25%         1.000000      2.000000  1.611881e+09      5.000000      1.000000\n",
              "50%        31.000000     13.000000  1.612313e+09      9.000000      1.000000\n",
              "75%       190.000000     51.000000  1.613758e+09     14.000000     54.000000\n",
              "max    348241.000000  93268.000000  1.619026e+09     66.000000   6301.000000"
            ]
          },
          "metadata": {
            "tags": []
          },
          "execution_count": 32
        }
      ]
    },
    {
      "cell_type": "markdown",
      "metadata": {
        "id": "Q8qr4DURo6Q3"
      },
      "source": [
        "#Text Preprocessing\n",
        "Before performing exploratory data analysis, some essential text preprocessing, like removing twitter handles,urls, special characters, extra spaces or changing all text to lower case was performed using RegEx."
      ]
    },
    {
      "cell_type": "code",
      "metadata": {
        "id": "22JtsOkwo30_"
      },
      "source": [
        "#Text Preprocessing\n",
        "#Remove NAs\n",
        "title_data = df[['title','timestamp']].copy()\n",
        "body_data = df[['body','timestamp']].copy()\n",
        "body_data = body_data.dropna()\n",
        "title_data = title_data.dropna()\n",
        "\n",
        "\n",
        "#lower_case\n",
        "title_data.title =title_data.title.str.lower()\n",
        "body_data.body =body_data.body.str.lower()\n",
        "\n",
        "\n",
        "#Remove handlers\n",
        "title_data.title = title_data.title.apply(lambda x:re.sub('@[^\\s]+','',x))\n",
        "body_data.body   = body_data.body.apply(lambda x:re.sub('@[^\\s]+','',x))\n",
        "\n",
        "\n",
        "# Remove URLS\n",
        "title_data.title = title_data.title.apply(lambda x:re.sub(r\"http\\S+\", \"\", x))\n",
        "body_data.body   = body_data.body.apply(lambda x:re.sub(r\"http\\S+\", \"\", x))\n",
        "\n",
        "\n",
        "# Remove all the special characters\n",
        "title_data.title = title_data.title.apply(lambda x:' '.join(re.findall(r'\\w+', x)))\n",
        "body_data.body   = body_data.body.apply(lambda x:' '.join(re.findall(r'\\w+', x)))\n",
        "\n",
        "\n",
        "#remove all single characters\n",
        "title_data.title = title_data.title.apply(lambda x:re.sub(r'\\s+[a-zA-Z]\\s+', ' ', x))\n",
        "body_data.body   = body_data.body.apply(lambda x:re.sub(r'\\s+[a-zA-Z]\\s+', ' ', x))\n",
        "\n",
        "# Substituting multiple spaces with single space\n",
        "title_data.title = title_data.title.apply(lambda x:re.sub(r'\\s+', ' ', x, flags=re.I))\n",
        "body_data.body   = body_data.body.apply(lambda x:re.sub(r'\\s+', ' ', x, flags=re.I))\n",
        "\n",
        "\n"
      ],
      "execution_count": 33,
      "outputs": []
    },
    {
      "cell_type": "code",
      "metadata": {
        "colab": {
          "base_uri": "https://localhost:8080/",
          "height": 136
        },
        "id": "uZRnF8xtpSZt",
        "outputId": "e60e2b03-abf2-4b52-d66a-fead370a32e4"
      },
      "source": [
        "#Add date column\n",
        "\n",
        "title_data[\"date\"] = pd.to_datetime(title_data.timestamp).dt.date\n",
        "body_data[\"date\"] = pd.to_datetime(body_data.timestamp).dt.date\n",
        "title_data.head(3)"
      ],
      "execution_count": 34,
      "outputs": [
        {
          "output_type": "execute_result",
          "data": {
            "text/html": [
              "<div>\n",
              "<style scoped>\n",
              "    .dataframe tbody tr th:only-of-type {\n",
              "        vertical-align: middle;\n",
              "    }\n",
              "\n",
              "    .dataframe tbody tr th {\n",
              "        vertical-align: top;\n",
              "    }\n",
              "\n",
              "    .dataframe thead th {\n",
              "        text-align: right;\n",
              "    }\n",
              "</style>\n",
              "<table border=\"1\" class=\"dataframe\">\n",
              "  <thead>\n",
              "    <tr style=\"text-align: right;\">\n",
              "      <th></th>\n",
              "      <th>title</th>\n",
              "      <th>timestamp</th>\n",
              "      <th>date</th>\n",
              "    </tr>\n",
              "  </thead>\n",
              "  <tbody>\n",
              "    <tr>\n",
              "      <th>0</th>\n",
              "      <td>it not about the money it about sending message</td>\n",
              "      <td>2021-01-28 21:37:41</td>\n",
              "      <td>2021-01-28</td>\n",
              "    </tr>\n",
              "    <tr>\n",
              "      <th>1</th>\n",
              "      <td>math professor scott steiner says the numbers ...</td>\n",
              "      <td>2021-01-28 21:32:10</td>\n",
              "      <td>2021-01-28</td>\n",
              "    </tr>\n",
              "    <tr>\n",
              "      <th>2</th>\n",
              "      <td>exit the system</td>\n",
              "      <td>2021-01-28 21:30:35</td>\n",
              "      <td>2021-01-28</td>\n",
              "    </tr>\n",
              "  </tbody>\n",
              "</table>\n",
              "</div>"
            ],
            "text/plain": [
              "                                               title  ...        date\n",
              "0    it not about the money it about sending message  ...  2021-01-28\n",
              "1  math professor scott steiner says the numbers ...  ...  2021-01-28\n",
              "2                                    exit the system  ...  2021-01-28\n",
              "\n",
              "[3 rows x 3 columns]"
            ]
          },
          "metadata": {
            "tags": []
          },
          "execution_count": 34
        }
      ]
    },
    {
      "cell_type": "markdown",
      "metadata": {
        "id": "XYVYqclHeBUc"
      },
      "source": [
        "\n",
        "Below is the list of top 20 words that were most used in the group, during the given timeframe.\n",
        "As can be seen below “GME” (stock ticker of Gamestop) has the highest number of occurrences, followed by “buy”/”bought”, “hold”, “stock”, “short”, “sell”.\n"
      ]
    },
    {
      "cell_type": "code",
      "metadata": {
        "colab": {
          "base_uri": "https://localhost:8080/",
          "height": 772
        },
        "id": "sNVpuAA-rrj3",
        "outputId": "0f022a8f-7cd3-4a9b-d9e4-c949420a029c"
      },
      "source": [
        "stop_words = set(stopwords.words('english'))  \n",
        "\n",
        "title_data['title2'] = [' '.join([w for w in x.lower().split() if w not in stop_words]) for x in title_data['title'].tolist()]\n",
        "top_words=Counter(\" \".join(title_data[\"title2\"]).split()).most_common(20)\n",
        "my_dict = dict(top_words)\n",
        "\n",
        "plt.bar(my_dict.keys(), my_dict.values(), width=.1, color='b')\n"
      ],
      "execution_count": 35,
      "outputs": [
        {
          "output_type": "execute_result",
          "data": {
            "text/plain": [
              "<BarContainer object of 20 artists>"
            ]
          },
          "metadata": {
            "tags": []
          },
          "execution_count": 35
        },
        {
          "output_type": "display_data",
          "data": {
            "image/png": "[encoded data removed]",
            "text/plain": [
              "<Figure size 1224x936 with 1 Axes>"
            ]
          },
          "metadata": {
            "tags": []
          }
        }
      ]
    },
    {
      "cell_type": "markdown",
      "metadata": {
        "id": "IeMAXde_eKvZ"
      },
      "source": [
        "Below is the daily number of posts that were posted in the group. As can be seen, there is a spike in the number of posts on the 29th of January, 2021. There were a total of 16 thousand posts posted on that day as opposed to an average number of posts of 500. While it seemed to be erroneous initially but when investigated in turned out to be exact day when stock price of Gamestop was at an all time high.\n",
        "\n"
      ]
    },
    {
      "cell_type": "code",
      "metadata": {
        "colab": {
          "base_uri": "https://localhost:8080/",
          "height": 700
        },
        "id": "Xf2s_mxOpgB9",
        "outputId": "329ced20-5dcc-4faf-eb21-079ccfcf0846"
      },
      "source": [
        "#Daily number of posts\n",
        "\n",
        "\n",
        "b_date_count = title_data.groupby(by='date').count().reset_index()\n",
        "b_date_count = b_date_count.rename(columns={'title':'Posts_Per_Day'})\n",
        "b_date_count.head(10)\n",
        "\n",
        "b_date_count.Posts_Per_Day.astype(int)\n",
        "\n",
        "# print(b_date_count.head(5))\n",
        "# print(b_date_count['Posts_Per_Day'].mean())\n",
        "\n",
        "\n",
        "ax = plt.gca()\n",
        "ax.xaxis.set_major_formatter(mdates.DateFormatter('%b-%d'))\n",
        "plt.gca().xaxis.set_major_locator(mdates.DayLocator(interval=7))\n",
        "plt.plot(b_date_count.date, b_date_count.Posts_Per_Day)\n",
        "plt.gcf().autofmt_xdate()\n",
        "plt.axhline(y = b_date_count['Posts_Per_Day'].mean(), color = 'r', linestyle = 'dashed', label = \"red line\")    \n",
        "\n",
        "plt.show()"
      ],
      "execution_count": 36,
      "outputs": [
        {
          "output_type": "display_data",
          "data": {
            "image/png": "[encoded data removed]",
            "text/plain": [
              "<Figure size 1224x936 with 1 Axes>"
            ]
          },
          "metadata": {
            "tags": []
          }
        }
      ]
    },
    {
      "cell_type": "markdown",
      "metadata": {
        "id": "uLM5Var3qySl"
      },
      "source": [
        "#Gamestop Stock Price\n",
        "Gamestop Stock Price dataset was downloaded from Yahoo Finance. The time period was from 28th January,2021 till 21st April, 2021 so as to compare with the available dataset from reddit. The interval of the dataset was “daily”, which mostly comprised of the daily opening and closing price of the Gamestop stock price.\n",
        "\n",
        "Following is the snippet of the Gamestop Stock Price dataset.\n"
      ]
    },
    {
      "cell_type": "code",
      "metadata": {
        "colab": {
          "base_uri": "https://localhost:8080/",
          "height": 789
        },
        "id": "sEhKiBcQqGMo",
        "outputId": "5ebc0088-cfbf-43f8-9d10-57c6508d97a3"
      },
      "source": [
        "data=['GME']\n",
        "yahoo_financials = YahooFinancials(data)\n",
        "data = yahoo_financials.get_historical_price_data(start_date='2021-01-28', \n",
        "                                                  end_date='2021-04-21', \n",
        "                                                  time_interval=\"daily\")\n",
        "\n",
        "\n",
        "data_stock = yf.download(\"GME\", start=\"2021-01-28\", end=\"2021-04-21\",group_by=\"ticker\")\n",
        "\n",
        "plt.plot(np.arange(len(data_stock)), data_stock.Close, alpha=0.7, label='Close' )"
      ],
      "execution_count": 37,
      "outputs": [
        {
          "output_type": "stream",
          "text": [
            "\r[*********************100%***********************]  1 of 1 completed\n"
          ],
          "name": "stdout"
        },
        {
          "output_type": "execute_result",
          "data": {
            "text/plain": [
              "[<matplotlib.lines.Line2D at 0x7f3c5bb2fcd0>]"
            ]
          },
          "metadata": {
            "tags": []
          },
          "execution_count": 37
        },
        {
          "output_type": "display_data",
          "data": {
            "image/png": "[encoded data removed]",
            "text/plain": [
              "<Figure size 1224x936 with 1 Axes>"
            ]
          },
          "metadata": {
            "tags": []
          }
        }
      ]
    },
    {
      "cell_type": "code",
      "metadata": {
        "colab": {
          "base_uri": "https://localhost:8080/",
          "height": 195
        },
        "id": "KVqTO-2tqa5m",
        "outputId": "5871255e-a9ce-4def-b3bd-1d3babba2261"
      },
      "source": [
        "title_data_gme=title_data[title_data['title'].str.contains(\"gme|gamestop\")].reset_index()\n",
        "#title_data_gme.drop(columns=['title2'],inplace=True)\n",
        "title_data_gme.head()"
      ],
      "execution_count": 38,
      "outputs": [
        {
          "output_type": "execute_result",
          "data": {
            "text/html": [
              "<div>\n",
              "<style scoped>\n",
              "    .dataframe tbody tr th:only-of-type {\n",
              "        vertical-align: middle;\n",
              "    }\n",
              "\n",
              "    .dataframe tbody tr th {\n",
              "        vertical-align: top;\n",
              "    }\n",
              "\n",
              "    .dataframe thead th {\n",
              "        text-align: right;\n",
              "    }\n",
              "</style>\n",
              "<table border=\"1\" class=\"dataframe\">\n",
              "  <thead>\n",
              "    <tr style=\"text-align: right;\">\n",
              "      <th></th>\n",
              "      <th>index</th>\n",
              "      <th>title</th>\n",
              "      <th>timestamp</th>\n",
              "      <th>date</th>\n",
              "      <th>title2</th>\n",
              "    </tr>\n",
              "  </thead>\n",
              "  <tbody>\n",
              "    <tr>\n",
              "      <th>0</th>\n",
              "      <td>1</td>\n",
              "      <td>math professor scott steiner says the numbers ...</td>\n",
              "      <td>2021-01-28 21:32:10</td>\n",
              "      <td>2021-01-28</td>\n",
              "      <td>math professor scott steiner says numbers spel...</td>\n",
              "    </tr>\n",
              "    <tr>\n",
              "      <th>1</th>\n",
              "      <td>3</td>\n",
              "      <td>new sec filing for gme can someone less retard...</td>\n",
              "      <td>2021-01-28 21:28:57</td>\n",
              "      <td>2021-01-28</td>\n",
              "      <td>new sec filing gme someone less retarded pleas...</td>\n",
              "    </tr>\n",
              "    <tr>\n",
              "      <th>2</th>\n",
              "      <td>4</td>\n",
              "      <td>not to distract from gme just thought our amc ...</td>\n",
              "      <td>2021-01-28 21:26:56</td>\n",
              "      <td>2021-01-28</td>\n",
              "      <td>distract gme thought amc brothers aware</td>\n",
              "    </tr>\n",
              "    <tr>\n",
              "      <th>3</th>\n",
              "      <td>8</td>\n",
              "      <td>currently holding amc and nok is it retarded t...</td>\n",
              "      <td>2021-01-28 21:19:16</td>\n",
              "      <td>2021-01-28</td>\n",
              "      <td>currently holding amc nok retarded think move ...</td>\n",
              "    </tr>\n",
              "    <tr>\n",
              "      <th>4</th>\n",
              "      <td>11</td>\n",
              "      <td>gme premarket musk approved</td>\n",
              "      <td>2021-01-28 21:17:28</td>\n",
              "      <td>2021-01-28</td>\n",
              "      <td>gme premarket musk approved</td>\n",
              "    </tr>\n",
              "  </tbody>\n",
              "</table>\n",
              "</div>"
            ],
            "text/plain": [
              "   index  ...                                             title2\n",
              "0      1  ...  math professor scott steiner says numbers spel...\n",
              "1      3  ...  new sec filing gme someone less retarded pleas...\n",
              "2      4  ...            distract gme thought amc brothers aware\n",
              "3      8  ...  currently holding amc nok retarded think move ...\n",
              "4     11  ...                        gme premarket musk approved\n",
              "\n",
              "[5 rows x 5 columns]"
            ]
          },
          "metadata": {
            "tags": []
          },
          "execution_count": 38
        }
      ]
    },
    {
      "cell_type": "markdown",
      "metadata": {
        "id": "LTuO3mYGed5q"
      },
      "source": [
        "In order to perform sentiment analysis “vader”, package available in NLTK, was used. “Vader” is a lexicon and rule-based sentiment analysis tool that is specifically built for sentiments expressed in social media."
      ]
    },
    {
      "cell_type": "code",
      "metadata": {
        "colab": {
          "base_uri": "https://localhost:8080/",
          "height": 296
        },
        "id": "V0g3IkvbyQTg",
        "outputId": "8ddfe3ae-6585-475d-9e7c-1b0416977cfb"
      },
      "source": [
        "sia = SIA()\n",
        "\n",
        "title_data_gme['sentiments']           = title_data_gme['title'].apply(lambda x: sia.polarity_scores(' '.join(re.findall(r'\\w+',x.lower()))))\n",
        "title_data_gme['Positive Sentiment']   = title_data_gme['sentiments'].apply(lambda x: x['pos']+1*(10**-6)) \n",
        "title_data_gme['Neutral Sentiment']    = title_data_gme['sentiments'].apply(lambda x: x['neu']+1*(10**-6))\n",
        "title_data_gme['Negative Sentiment']   = title_data_gme['sentiments'].apply(lambda x: x['neg']+1*(10**-6))\n",
        "title_data_gme['Compound Sentiment']   = title_data_gme['sentiments'].apply(lambda x: x['compound']+1*(10**-6))\n",
        "\n",
        "title_data_gme.drop(columns=['sentiments'],inplace=True)\n",
        "title_data_gme.head()"
      ],
      "execution_count": 39,
      "outputs": [
        {
          "output_type": "execute_result",
          "data": {
            "text/html": [
              "<div>\n",
              "<style scoped>\n",
              "    .dataframe tbody tr th:only-of-type {\n",
              "        vertical-align: middle;\n",
              "    }\n",
              "\n",
              "    .dataframe tbody tr th {\n",
              "        vertical-align: top;\n",
              "    }\n",
              "\n",
              "    .dataframe thead th {\n",
              "        text-align: right;\n",
              "    }\n",
              "</style>\n",
              "<table border=\"1\" class=\"dataframe\">\n",
              "  <thead>\n",
              "    <tr style=\"text-align: right;\">\n",
              "      <th></th>\n",
              "      <th>index</th>\n",
              "      <th>title</th>\n",
              "      <th>timestamp</th>\n",
              "      <th>date</th>\n",
              "      <th>title2</th>\n",
              "      <th>Positive Sentiment</th>\n",
              "      <th>Neutral Sentiment</th>\n",
              "      <th>Negative Sentiment</th>\n",
              "      <th>Compound Sentiment</th>\n",
              "    </tr>\n",
              "  </thead>\n",
              "  <tbody>\n",
              "    <tr>\n",
              "      <th>0</th>\n",
              "      <td>1</td>\n",
              "      <td>math professor scott steiner says the numbers ...</td>\n",
              "      <td>2021-01-28 21:32:10</td>\n",
              "      <td>2021-01-28</td>\n",
              "      <td>math professor scott steiner says numbers spel...</td>\n",
              "      <td>0.000001</td>\n",
              "      <td>0.728001</td>\n",
              "      <td>0.272001</td>\n",
              "      <td>-0.624899</td>\n",
              "    </tr>\n",
              "    <tr>\n",
              "      <th>1</th>\n",
              "      <td>3</td>\n",
              "      <td>new sec filing for gme can someone less retard...</td>\n",
              "      <td>2021-01-28 21:28:57</td>\n",
              "      <td>2021-01-28</td>\n",
              "      <td>new sec filing gme someone less retarded pleas...</td>\n",
              "      <td>0.138001</td>\n",
              "      <td>0.658001</td>\n",
              "      <td>0.204001</td>\n",
              "      <td>-0.274799</td>\n",
              "    </tr>\n",
              "    <tr>\n",
              "      <th>2</th>\n",
              "      <td>4</td>\n",
              "      <td>not to distract from gme just thought our amc ...</td>\n",
              "      <td>2021-01-28 21:26:56</td>\n",
              "      <td>2021-01-28</td>\n",
              "      <td>distract gme thought amc brothers aware</td>\n",
              "      <td>0.119001</td>\n",
              "      <td>0.881001</td>\n",
              "      <td>0.000001</td>\n",
              "      <td>0.223501</td>\n",
              "    </tr>\n",
              "    <tr>\n",
              "      <th>3</th>\n",
              "      <td>8</td>\n",
              "      <td>currently holding amc and nok is it retarded t...</td>\n",
              "      <td>2021-01-28 21:19:16</td>\n",
              "      <td>2021-01-28</td>\n",
              "      <td>currently holding amc nok retarded think move ...</td>\n",
              "      <td>0.000001</td>\n",
              "      <td>0.812001</td>\n",
              "      <td>0.188001</td>\n",
              "      <td>-0.571899</td>\n",
              "    </tr>\n",
              "    <tr>\n",
              "      <th>4</th>\n",
              "      <td>11</td>\n",
              "      <td>gme premarket musk approved</td>\n",
              "      <td>2021-01-28 21:17:28</td>\n",
              "      <td>2021-01-28</td>\n",
              "      <td>gme premarket musk approved</td>\n",
              "      <td>0.483001</td>\n",
              "      <td>0.517001</td>\n",
              "      <td>0.000001</td>\n",
              "      <td>0.421501</td>\n",
              "    </tr>\n",
              "  </tbody>\n",
              "</table>\n",
              "</div>"
            ],
            "text/plain": [
              "   index  ... Compound Sentiment\n",
              "0      1  ...          -0.624899\n",
              "1      3  ...          -0.274799\n",
              "2      4  ...           0.223501\n",
              "3      8  ...          -0.571899\n",
              "4     11  ...           0.421501\n",
              "\n",
              "[5 rows x 9 columns]"
            ]
          },
          "metadata": {
            "tags": []
          },
          "execution_count": 39
        }
      ]
    },
    {
      "cell_type": "markdown",
      "metadata": {
        "id": "GhxOIpQBqcPf"
      },
      "source": [
        "#Pattern between number of posts and price shoot\n",
        "\n",
        "Once we had the daily stock price’s dataset for gamestop, the reddit posts dataset was grouped together into daily posts. And then the daily sentiment analysis was performed and plotted against daily stock price, after normalization and transformation.\n",
        "\n",
        "As you can see, there seems to be a correlation between the 2 graphs. But there is a caveat…. \n"
      ]
    },
    {
      "cell_type": "code",
      "metadata": {
        "id": "BVGPdDgqAGkm"
      },
      "source": [
        "norm_price=2*(data_stock[\"Close\"]/max(data_stock[\"Close\"]))-.5\n",
        "norm_price=data_stock[\"Close\"]/max(data_stock[\"Close\"])/3\n",
        "\n",
        "\n",
        "#norm_price=np.log(data_stock[\"Close\"])/max(np.log(data_stock[\"Close\"]))-.8"
      ],
      "execution_count": 40,
      "outputs": []
    },
    {
      "cell_type": "code",
      "metadata": {
        "colab": {
          "base_uri": "https://localhost:8080/",
          "height": 772
        },
        "id": "WmrHuV6GAE6V",
        "outputId": "9c9ac9dd-34d5-49ac-c531-7cd68451a8ad"
      },
      "source": [
        "data_compare=title_data_gme\n",
        "\n",
        "\n",
        "pg=title_data_gme.groupby('date')['Compound Sentiment'].mean().reset_index()\n",
        "pg_gme=data_compare.groupby('date')['Compound Sentiment'].mean().reset_index()\n",
        "\n",
        "\n",
        "#plt.plot(pg.date, pg['Compound Sentiment'])\n",
        "\n",
        "plt.plot(pg_gme.date, pg_gme['Compound Sentiment'])\n",
        "plt.plot(norm_price)\n",
        "\n",
        "plt.legend([\"pg\",\"norm_price\"])"
      ],
      "execution_count": 41,
      "outputs": [
        {
          "output_type": "execute_result",
          "data": {
            "text/plain": [
              "<matplotlib.legend.Legend at 0x7f3c5abbd650>"
            ]
          },
          "metadata": {
            "tags": []
          },
          "execution_count": 41
        },
        {
          "output_type": "display_data",
          "data": {
            "image/png": "[encoded data removed]",
            "text/plain": [
              "<Figure size 1224x936 with 1 Axes>"
            ]
          },
          "metadata": {
            "tags": []
          }
        }
      ]
    },
    {
      "cell_type": "markdown",
      "metadata": {
        "id": "chlb6vIVqsNQ"
      },
      "source": [
        "#Caveat\n",
        "Following is a post taken from the reddist dataset. It may seem that the given post is sentimentally negative and, infact, the model recognises it as a negative sentiment. But the fact of the matter is that this post indicates a positive trend in the stock price of gamestop. Hence it was concluded that “vader” is not a good sentiment analysis tool for our problem. A model that was trained on a financial dataset might have been useful and relevant instead.\n"
      ]
    },
    {
      "cell_type": "code",
      "metadata": {
        "colab": {
          "base_uri": "https://localhost:8080/",
          "height": 35
        },
        "id": "AlbRI7KTKjke",
        "outputId": "10c0740b-3ad5-43af-916a-9b170f0501fe"
      },
      "source": [
        "title_data_gme['title'][0]"
      ],
      "execution_count": 42,
      "outputs": [
        {
          "output_type": "execute_result",
          "data": {
            "application/vnd.google.colaboratory.intrinsic+json": {
              "type": "string"
            },
            "text/plain": [
              "'math professor scott steiner says the numbers spell disaster for gamestop shorts'"
            ]
          },
          "metadata": {
            "tags": []
          },
          "execution_count": 42
        }
      ]
    },
    {
      "cell_type": "markdown",
      "metadata": {
        "id": "lZBQBlFhz7EW"
      },
      "source": [
        "Model doesnt understand the financial situation"
      ]
    },
    {
      "cell_type": "markdown",
      "metadata": {
        "id": "qLN0o7Ny0Ph9"
      },
      "source": [
        "#Re-labeling Dataset\n",
        "Given the above problem, an attempt was made to label dataset according to the daily trend in the stock price of Gamestop. The daily trend was computed by the difference between the daily closing and opening price of the stock.\n",
        "\n",
        "Following is the snippet of the relabeled dataset,  where “Trend” value of “0” means the price of the stock dropped on the given day, while “Trend” value of 1 means that stock price increased on the given day. \n"
      ]
    },
    {
      "cell_type": "code",
      "metadata": {
        "colab": {
          "base_uri": "https://localhost:8080/",
          "height": 225
        },
        "id": "iNoJJ-Tu0soW",
        "outputId": "8aba7ab6-a77f-4684-8c3b-dc67b24c4824"
      },
      "source": [
        "data_stock.loc[data_stock['Close'] -data_stock['Open']>=0, 'Trend'] = 1\n",
        "data_stock.loc[data_stock['Close'] -data_stock['Open']<0, 'Trend'] = 0\n",
        "\n",
        "#df.loc[df['A'] > df['B'], 'C'] = 1\n",
        "#df.loc[df['A'] < df['B'], 'C'] = -1\n",
        "#data_stock[\"Close\"] - data_stock[\"Open\"]\n",
        "data_stock.head()"
      ],
      "execution_count": 43,
      "outputs": [
        {
          "output_type": "execute_result",
          "data": {
            "text/html": [
              "<div>\n",
              "<style scoped>\n",
              "    .dataframe tbody tr th:only-of-type {\n",
              "        vertical-align: middle;\n",
              "    }\n",
              "\n",
              "    .dataframe tbody tr th {\n",
              "        vertical-align: top;\n",
              "    }\n",
              "\n",
              "    .dataframe thead th {\n",
              "        text-align: right;\n",
              "    }\n",
              "</style>\n",
              "<table border=\"1\" class=\"dataframe\">\n",
              "  <thead>\n",
              "    <tr style=\"text-align: right;\">\n",
              "      <th></th>\n",
              "      <th>Open</th>\n",
              "      <th>High</th>\n",
              "      <th>Low</th>\n",
              "      <th>Close</th>\n",
              "      <th>Adj Close</th>\n",
              "      <th>Volume</th>\n",
              "      <th>Trend</th>\n",
              "    </tr>\n",
              "    <tr>\n",
              "      <th>Date</th>\n",
              "      <th></th>\n",
              "      <th></th>\n",
              "      <th></th>\n",
              "      <th></th>\n",
              "      <th></th>\n",
              "      <th></th>\n",
              "      <th></th>\n",
              "    </tr>\n",
              "  </thead>\n",
              "  <tbody>\n",
              "    <tr>\n",
              "      <th>2021-01-28</th>\n",
              "      <td>265.000000</td>\n",
              "      <td>483.000000</td>\n",
              "      <td>112.250000</td>\n",
              "      <td>193.600006</td>\n",
              "      <td>193.600006</td>\n",
              "      <td>58815800</td>\n",
              "      <td>0.0</td>\n",
              "    </tr>\n",
              "    <tr>\n",
              "      <th>2021-01-29</th>\n",
              "      <td>379.709991</td>\n",
              "      <td>413.980011</td>\n",
              "      <td>250.000000</td>\n",
              "      <td>325.000000</td>\n",
              "      <td>325.000000</td>\n",
              "      <td>50566100</td>\n",
              "      <td>0.0</td>\n",
              "    </tr>\n",
              "    <tr>\n",
              "      <th>2021-02-01</th>\n",
              "      <td>316.559998</td>\n",
              "      <td>322.000000</td>\n",
              "      <td>212.000000</td>\n",
              "      <td>225.000000</td>\n",
              "      <td>225.000000</td>\n",
              "      <td>37382200</td>\n",
              "      <td>0.0</td>\n",
              "    </tr>\n",
              "    <tr>\n",
              "      <th>2021-02-02</th>\n",
              "      <td>140.759995</td>\n",
              "      <td>158.000000</td>\n",
              "      <td>74.220001</td>\n",
              "      <td>90.000000</td>\n",
              "      <td>90.000000</td>\n",
              "      <td>78183100</td>\n",
              "      <td>0.0</td>\n",
              "    </tr>\n",
              "    <tr>\n",
              "      <th>2021-02-03</th>\n",
              "      <td>112.010002</td>\n",
              "      <td>113.400002</td>\n",
              "      <td>85.250000</td>\n",
              "      <td>92.410004</td>\n",
              "      <td>92.410004</td>\n",
              "      <td>42698500</td>\n",
              "      <td>0.0</td>\n",
              "    </tr>\n",
              "  </tbody>\n",
              "</table>\n",
              "</div>"
            ],
            "text/plain": [
              "                  Open        High         Low  ...   Adj Close    Volume  Trend\n",
              "Date                                            ...                             \n",
              "2021-01-28  265.000000  483.000000  112.250000  ...  193.600006  58815800    0.0\n",
              "2021-01-29  379.709991  413.980011  250.000000  ...  325.000000  50566100    0.0\n",
              "2021-02-01  316.559998  322.000000  212.000000  ...  225.000000  37382200    0.0\n",
              "2021-02-02  140.759995  158.000000   74.220001  ...   90.000000  78183100    0.0\n",
              "2021-02-03  112.010002  113.400002   85.250000  ...   92.410004  42698500    0.0\n",
              "\n",
              "[5 rows x 7 columns]"
            ]
          },
          "metadata": {
            "tags": []
          },
          "execution_count": 43
        }
      ]
    },
    {
      "cell_type": "code",
      "metadata": {
        "colab": {
          "base_uri": "https://localhost:8080/",
          "height": 296
        },
        "id": "8EZ2pnBo63IN",
        "outputId": "dbe8bcc1-3f1f-4eb3-860a-f1bb0ec85e98"
      },
      "source": [
        "title_data_gme.head()"
      ],
      "execution_count": 44,
      "outputs": [
        {
          "output_type": "execute_result",
          "data": {
            "text/html": [
              "<div>\n",
              "<style scoped>\n",
              "    .dataframe tbody tr th:only-of-type {\n",
              "        vertical-align: middle;\n",
              "    }\n",
              "\n",
              "    .dataframe tbody tr th {\n",
              "        vertical-align: top;\n",
              "    }\n",
              "\n",
              "    .dataframe thead th {\n",
              "        text-align: right;\n",
              "    }\n",
              "</style>\n",
              "<table border=\"1\" class=\"dataframe\">\n",
              "  <thead>\n",
              "    <tr style=\"text-align: right;\">\n",
              "      <th></th>\n",
              "      <th>index</th>\n",
              "      <th>title</th>\n",
              "      <th>timestamp</th>\n",
              "      <th>date</th>\n",
              "      <th>title2</th>\n",
              "      <th>Positive Sentiment</th>\n",
              "      <th>Neutral Sentiment</th>\n",
              "      <th>Negative Sentiment</th>\n",
              "      <th>Compound Sentiment</th>\n",
              "    </tr>\n",
              "  </thead>\n",
              "  <tbody>\n",
              "    <tr>\n",
              "      <th>0</th>\n",
              "      <td>1</td>\n",
              "      <td>math professor scott steiner says the numbers ...</td>\n",
              "      <td>2021-01-28 21:32:10</td>\n",
              "      <td>2021-01-28</td>\n",
              "      <td>math professor scott steiner says numbers spel...</td>\n",
              "      <td>0.000001</td>\n",
              "      <td>0.728001</td>\n",
              "      <td>0.272001</td>\n",
              "      <td>-0.624899</td>\n",
              "    </tr>\n",
              "    <tr>\n",
              "      <th>1</th>\n",
              "      <td>3</td>\n",
              "      <td>new sec filing for gme can someone less retard...</td>\n",
              "      <td>2021-01-28 21:28:57</td>\n",
              "      <td>2021-01-28</td>\n",
              "      <td>new sec filing gme someone less retarded pleas...</td>\n",
              "      <td>0.138001</td>\n",
              "      <td>0.658001</td>\n",
              "      <td>0.204001</td>\n",
              "      <td>-0.274799</td>\n",
              "    </tr>\n",
              "    <tr>\n",
              "      <th>2</th>\n",
              "      <td>4</td>\n",
              "      <td>not to distract from gme just thought our amc ...</td>\n",
              "      <td>2021-01-28 21:26:56</td>\n",
              "      <td>2021-01-28</td>\n",
              "      <td>distract gme thought amc brothers aware</td>\n",
              "      <td>0.119001</td>\n",
              "      <td>0.881001</td>\n",
              "      <td>0.000001</td>\n",
              "      <td>0.223501</td>\n",
              "    </tr>\n",
              "    <tr>\n",
              "      <th>3</th>\n",
              "      <td>8</td>\n",
              "      <td>currently holding amc and nok is it retarded t...</td>\n",
              "      <td>2021-01-28 21:19:16</td>\n",
              "      <td>2021-01-28</td>\n",
              "      <td>currently holding amc nok retarded think move ...</td>\n",
              "      <td>0.000001</td>\n",
              "      <td>0.812001</td>\n",
              "      <td>0.188001</td>\n",
              "      <td>-0.571899</td>\n",
              "    </tr>\n",
              "    <tr>\n",
              "      <th>4</th>\n",
              "      <td>11</td>\n",
              "      <td>gme premarket musk approved</td>\n",
              "      <td>2021-01-28 21:17:28</td>\n",
              "      <td>2021-01-28</td>\n",
              "      <td>gme premarket musk approved</td>\n",
              "      <td>0.483001</td>\n",
              "      <td>0.517001</td>\n",
              "      <td>0.000001</td>\n",
              "      <td>0.421501</td>\n",
              "    </tr>\n",
              "  </tbody>\n",
              "</table>\n",
              "</div>"
            ],
            "text/plain": [
              "   index  ... Compound Sentiment\n",
              "0      1  ...          -0.624899\n",
              "1      3  ...          -0.274799\n",
              "2      4  ...           0.223501\n",
              "3      8  ...          -0.571899\n",
              "4     11  ...           0.421501\n",
              "\n",
              "[5 rows x 9 columns]"
            ]
          },
          "metadata": {
            "tags": []
          },
          "execution_count": 44
        }
      ]
    },
    {
      "cell_type": "code",
      "metadata": {
        "id": "NfEDkzo46trP"
      },
      "source": [
        "# concatenate the string\n",
        "df=title_data_gme\n",
        "df['title'] = df.groupby(['date'])['title'].transform(lambda x : ' '.join(x))\n",
        "  \n",
        "\n",
        " "
      ],
      "execution_count": 45,
      "outputs": []
    },
    {
      "cell_type": "code",
      "metadata": {
        "id": "lrZfwkZZ8iZ-",
        "colab": {
          "base_uri": "https://localhost:8080/",
          "height": 296
        },
        "outputId": "233f52d9-65a3-482e-af85-f40c07970844"
      },
      "source": [
        "# drop duplicate data\n",
        "df = df.drop_duplicates(subset='title', keep=\"first\")\n",
        "df.head()"
      ],
      "execution_count": 46,
      "outputs": [
        {
          "output_type": "execute_result",
          "data": {
            "text/html": [
              "<div>\n",
              "<style scoped>\n",
              "    .dataframe tbody tr th:only-of-type {\n",
              "        vertical-align: middle;\n",
              "    }\n",
              "\n",
              "    .dataframe tbody tr th {\n",
              "        vertical-align: top;\n",
              "    }\n",
              "\n",
              "    .dataframe thead th {\n",
              "        text-align: right;\n",
              "    }\n",
              "</style>\n",
              "<table border=\"1\" class=\"dataframe\">\n",
              "  <thead>\n",
              "    <tr style=\"text-align: right;\">\n",
              "      <th></th>\n",
              "      <th>index</th>\n",
              "      <th>title</th>\n",
              "      <th>timestamp</th>\n",
              "      <th>date</th>\n",
              "      <th>title2</th>\n",
              "      <th>Positive Sentiment</th>\n",
              "      <th>Neutral Sentiment</th>\n",
              "      <th>Negative Sentiment</th>\n",
              "      <th>Compound Sentiment</th>\n",
              "    </tr>\n",
              "  </thead>\n",
              "  <tbody>\n",
              "    <tr>\n",
              "      <th>0</th>\n",
              "      <td>1</td>\n",
              "      <td>math professor scott steiner says the numbers ...</td>\n",
              "      <td>2021-01-28 21:32:10</td>\n",
              "      <td>2021-01-28</td>\n",
              "      <td>math professor scott steiner says numbers spel...</td>\n",
              "      <td>0.000001</td>\n",
              "      <td>0.728001</td>\n",
              "      <td>0.272001</td>\n",
              "      <td>-0.624899</td>\n",
              "    </tr>\n",
              "    <tr>\n",
              "      <th>272</th>\n",
              "      <td>1197</td>\n",
              "      <td>current data on gme short positions whats this...</td>\n",
              "      <td>2021-01-29 01:02:55</td>\n",
              "      <td>2021-01-29</td>\n",
              "      <td>current data gme short positions</td>\n",
              "      <td>0.000001</td>\n",
              "      <td>1.000001</td>\n",
              "      <td>0.000001</td>\n",
              "      <td>0.000001</td>\n",
              "    </tr>\n",
              "    <tr>\n",
              "      <th>3326</th>\n",
              "      <td>16582</td>\n",
              "      <td>degiro only allowing limit orders for gme and ...</td>\n",
              "      <td>2021-01-30 01:13:46</td>\n",
              "      <td>2021-01-30</td>\n",
              "      <td>degiro allowing limit orders gme amc eu bois l...</td>\n",
              "      <td>0.000001</td>\n",
              "      <td>1.000001</td>\n",
              "      <td>0.000001</td>\n",
              "      <td>0.000001</td>\n",
              "    </tr>\n",
              "    <tr>\n",
              "      <th>3562</th>\n",
              "      <td>17619</td>\n",
              "      <td>what can do to support gme as someone who neve...</td>\n",
              "      <td>2021-01-31 01:46:50</td>\n",
              "      <td>2021-01-31</td>\n",
              "      <td>support gme someone never done stock</td>\n",
              "      <td>0.197001</td>\n",
              "      <td>0.803001</td>\n",
              "      <td>0.000001</td>\n",
              "      <td>0.401901</td>\n",
              "    </tr>\n",
              "    <tr>\n",
              "      <th>3820</th>\n",
              "      <td>18575</td>\n",
              "      <td>although they write that melvin is down 53 the...</td>\n",
              "      <td>2021-02-01 02:15:51</td>\n",
              "      <td>2021-02-01</td>\n",
              "      <td>although write melvin 53 continue say fine eve...</td>\n",
              "      <td>0.036001</td>\n",
              "      <td>0.865001</td>\n",
              "      <td>0.099001</td>\n",
              "      <td>-0.476699</td>\n",
              "    </tr>\n",
              "  </tbody>\n",
              "</table>\n",
              "</div>"
            ],
            "text/plain": [
              "      index  ... Compound Sentiment\n",
              "0         1  ...          -0.624899\n",
              "272    1197  ...           0.000001\n",
              "3326  16582  ...           0.000001\n",
              "3562  17619  ...           0.401901\n",
              "3820  18575  ...          -0.476699\n",
              "\n",
              "[5 rows x 9 columns]"
            ]
          },
          "metadata": {
            "tags": []
          },
          "execution_count": 46
        }
      ]
    },
    {
      "cell_type": "code",
      "metadata": {
        "id": "uI_iEW8X7nvW",
        "colab": {
          "base_uri": "https://localhost:8080/"
        },
        "outputId": "a794a586-b652-405b-e534-4a188871c6e7"
      },
      "source": [
        "# What is the average length of the title\n",
        "#df1 = df.replace(np.nan, '', regex=True)\n",
        "\n",
        "#df1['len_title']=df1['title'].apply(lambda x : len(x.split(' ')))\n",
        "df[\"gme\"]=df.title.str.count(\"gme|gamestop\")\n",
        "\n",
        "df[\"buy\"]=df.title.str.count(\"buy|bought|get\")\n",
        "df[\"hold\"]=df.title.str.count(\"hold|holding\")\n",
        "df[\"sell\"]=df.title.str.count(\"sell|short\")\n"
      ],
      "execution_count": 47,
      "outputs": [
        {
          "output_type": "stream",
          "text": [
            "/usr/local/lib/python3.7/dist-packages/ipykernel_launcher.py:5: SettingWithCopyWarning:\n",
            "\n",
            "\n",
            "A value is trying to be set on a copy of a slice from a DataFrame.\n",
            "Try using .loc[row_indexer,col_indexer] = value instead\n",
            "\n",
            "See the caveats in the documentation: https://pandas.pydata.org/pandas-docs/stable/user_guide/indexing.html#returning-a-view-versus-a-copy\n",
            "\n",
            "/usr/local/lib/python3.7/dist-packages/ipykernel_launcher.py:7: SettingWithCopyWarning:\n",
            "\n",
            "\n",
            "A value is trying to be set on a copy of a slice from a DataFrame.\n",
            "Try using .loc[row_indexer,col_indexer] = value instead\n",
            "\n",
            "See the caveats in the documentation: https://pandas.pydata.org/pandas-docs/stable/user_guide/indexing.html#returning-a-view-versus-a-copy\n",
            "\n",
            "/usr/local/lib/python3.7/dist-packages/ipykernel_launcher.py:8: SettingWithCopyWarning:\n",
            "\n",
            "\n",
            "A value is trying to be set on a copy of a slice from a DataFrame.\n",
            "Try using .loc[row_indexer,col_indexer] = value instead\n",
            "\n",
            "See the caveats in the documentation: https://pandas.pydata.org/pandas-docs/stable/user_guide/indexing.html#returning-a-view-versus-a-copy\n",
            "\n",
            "/usr/local/lib/python3.7/dist-packages/ipykernel_launcher.py:9: SettingWithCopyWarning:\n",
            "\n",
            "\n",
            "A value is trying to be set on a copy of a slice from a DataFrame.\n",
            "Try using .loc[row_indexer,col_indexer] = value instead\n",
            "\n",
            "See the caveats in the documentation: https://pandas.pydata.org/pandas-docs/stable/user_guide/indexing.html#returning-a-view-versus-a-copy\n",
            "\n"
          ],
          "name": "stderr"
        }
      ]
    },
    {
      "cell_type": "code",
      "metadata": {
        "id": "Tcpl-N9Z4K2m"
      },
      "source": [
        "#Todo\n",
        "\n",
        "#add neutral cat in price trend using S&P\n",
        "# offset data so that sentiment is predicting\n",
        "#off days of the market\n",
        "#day ends at 5pm\n"
      ],
      "execution_count": 48,
      "outputs": []
    },
    {
      "cell_type": "code",
      "metadata": {
        "colab": {
          "base_uri": "https://localhost:8080/",
          "height": 195
        },
        "id": "KmR0a06vkOjG",
        "outputId": "be15ce6c-51f6-46c1-8937-6ae4ff6128f6"
      },
      "source": [
        "df_p=data_stock.reset_index()\n",
        "df_p.rename(columns = {'Date':'date'}, inplace = True)\n",
        "\n",
        "df_p.head()"
      ],
      "execution_count": 49,
      "outputs": [
        {
          "output_type": "execute_result",
          "data": {
            "text/html": [
              "<div>\n",
              "<style scoped>\n",
              "    .dataframe tbody tr th:only-of-type {\n",
              "        vertical-align: middle;\n",
              "    }\n",
              "\n",
              "    .dataframe tbody tr th {\n",
              "        vertical-align: top;\n",
              "    }\n",
              "\n",
              "    .dataframe thead th {\n",
              "        text-align: right;\n",
              "    }\n",
              "</style>\n",
              "<table border=\"1\" class=\"dataframe\">\n",
              "  <thead>\n",
              "    <tr style=\"text-align: right;\">\n",
              "      <th></th>\n",
              "      <th>date</th>\n",
              "      <th>Open</th>\n",
              "      <th>High</th>\n",
              "      <th>Low</th>\n",
              "      <th>Close</th>\n",
              "      <th>Adj Close</th>\n",
              "      <th>Volume</th>\n",
              "      <th>Trend</th>\n",
              "    </tr>\n",
              "  </thead>\n",
              "  <tbody>\n",
              "    <tr>\n",
              "      <th>0</th>\n",
              "      <td>2021-01-28</td>\n",
              "      <td>265.000000</td>\n",
              "      <td>483.000000</td>\n",
              "      <td>112.250000</td>\n",
              "      <td>193.600006</td>\n",
              "      <td>193.600006</td>\n",
              "      <td>58815800</td>\n",
              "      <td>0.0</td>\n",
              "    </tr>\n",
              "    <tr>\n",
              "      <th>1</th>\n",
              "      <td>2021-01-29</td>\n",
              "      <td>379.709991</td>\n",
              "      <td>413.980011</td>\n",
              "      <td>250.000000</td>\n",
              "      <td>325.000000</td>\n",
              "      <td>325.000000</td>\n",
              "      <td>50566100</td>\n",
              "      <td>0.0</td>\n",
              "    </tr>\n",
              "    <tr>\n",
              "      <th>2</th>\n",
              "      <td>2021-02-01</td>\n",
              "      <td>316.559998</td>\n",
              "      <td>322.000000</td>\n",
              "      <td>212.000000</td>\n",
              "      <td>225.000000</td>\n",
              "      <td>225.000000</td>\n",
              "      <td>37382200</td>\n",
              "      <td>0.0</td>\n",
              "    </tr>\n",
              "    <tr>\n",
              "      <th>3</th>\n",
              "      <td>2021-02-02</td>\n",
              "      <td>140.759995</td>\n",
              "      <td>158.000000</td>\n",
              "      <td>74.220001</td>\n",
              "      <td>90.000000</td>\n",
              "      <td>90.000000</td>\n",
              "      <td>78183100</td>\n",
              "      <td>0.0</td>\n",
              "    </tr>\n",
              "    <tr>\n",
              "      <th>4</th>\n",
              "      <td>2021-02-03</td>\n",
              "      <td>112.010002</td>\n",
              "      <td>113.400002</td>\n",
              "      <td>85.250000</td>\n",
              "      <td>92.410004</td>\n",
              "      <td>92.410004</td>\n",
              "      <td>42698500</td>\n",
              "      <td>0.0</td>\n",
              "    </tr>\n",
              "  </tbody>\n",
              "</table>\n",
              "</div>"
            ],
            "text/plain": [
              "        date        Open        High  ...   Adj Close    Volume  Trend\n",
              "0 2021-01-28  265.000000  483.000000  ...  193.600006  58815800    0.0\n",
              "1 2021-01-29  379.709991  413.980011  ...  325.000000  50566100    0.0\n",
              "2 2021-02-01  316.559998  322.000000  ...  225.000000  37382200    0.0\n",
              "3 2021-02-02  140.759995  158.000000  ...   90.000000  78183100    0.0\n",
              "4 2021-02-03  112.010002  113.400002  ...   92.410004  42698500    0.0\n",
              "\n",
              "[5 rows x 8 columns]"
            ]
          },
          "metadata": {
            "tags": []
          },
          "execution_count": 49
        }
      ]
    },
    {
      "cell_type": "code",
      "metadata": {
        "colab": {
          "base_uri": "https://localhost:8080/"
        },
        "id": "vDkqGOSAKntP",
        "outputId": "6ed56ac8-3847-4c46-e1a8-0d41e5c5d76b"
      },
      "source": [
        "df_p.shape"
      ],
      "execution_count": 50,
      "outputs": [
        {
          "output_type": "execute_result",
          "data": {
            "text/plain": [
              "(57, 8)"
            ]
          },
          "metadata": {
            "tags": []
          },
          "execution_count": 50
        }
      ]
    },
    {
      "cell_type": "code",
      "metadata": {
        "colab": {
          "base_uri": "https://localhost:8080/"
        },
        "id": "ZTip0nGt_u_n",
        "outputId": "0faddf72-420f-4cde-db3d-acde75cf2109"
      },
      "source": [
        "\n",
        "\n",
        "a=df[[\"title\",\"date\",\"gme\",\"buy\",\"hold\",\"sell\"]]\n",
        "a[\"buySell\"]=a[\"buy\"]/a[\"sell\"]\n",
        "b=df_p[[\"Trend\",\"date\"]]\n",
        "b[\"date\"]=pd.to_datetime(b[\"date\"]).dt.date\n",
        "\n",
        "data_bert = b.merge(a, how = 'inner', on ='date')\n",
        "\n"
      ],
      "execution_count": 51,
      "outputs": [
        {
          "output_type": "stream",
          "text": [
            "/usr/local/lib/python3.7/dist-packages/ipykernel_launcher.py:4: SettingWithCopyWarning:\n",
            "\n",
            "\n",
            "A value is trying to be set on a copy of a slice from a DataFrame.\n",
            "Try using .loc[row_indexer,col_indexer] = value instead\n",
            "\n",
            "See the caveats in the documentation: https://pandas.pydata.org/pandas-docs/stable/user_guide/indexing.html#returning-a-view-versus-a-copy\n",
            "\n",
            "/usr/local/lib/python3.7/dist-packages/ipykernel_launcher.py:6: SettingWithCopyWarning:\n",
            "\n",
            "\n",
            "A value is trying to be set on a copy of a slice from a DataFrame.\n",
            "Try using .loc[row_indexer,col_indexer] = value instead\n",
            "\n",
            "See the caveats in the documentation: https://pandas.pydata.org/pandas-docs/stable/user_guide/indexing.html#returning-a-view-versus-a-copy\n",
            "\n"
          ],
          "name": "stderr"
        }
      ]
    },
    {
      "cell_type": "code",
      "metadata": {
        "colab": {
          "base_uri": "https://localhost:8080/",
          "height": 195
        },
        "id": "s8H4vESuFcXR",
        "outputId": "9810fc8e-b05b-44db-da1e-61f17ff12cbd"
      },
      "source": [
        "data_bert.head()"
      ],
      "execution_count": 52,
      "outputs": [
        {
          "output_type": "execute_result",
          "data": {
            "text/html": [
              "<div>\n",
              "<style scoped>\n",
              "    .dataframe tbody tr th:only-of-type {\n",
              "        vertical-align: middle;\n",
              "    }\n",
              "\n",
              "    .dataframe tbody tr th {\n",
              "        vertical-align: top;\n",
              "    }\n",
              "\n",
              "    .dataframe thead th {\n",
              "        text-align: right;\n",
              "    }\n",
              "</style>\n",
              "<table border=\"1\" class=\"dataframe\">\n",
              "  <thead>\n",
              "    <tr style=\"text-align: right;\">\n",
              "      <th></th>\n",
              "      <th>Trend</th>\n",
              "      <th>date</th>\n",
              "      <th>title</th>\n",
              "      <th>gme</th>\n",
              "      <th>buy</th>\n",
              "      <th>hold</th>\n",
              "      <th>sell</th>\n",
              "      <th>buySell</th>\n",
              "    </tr>\n",
              "  </thead>\n",
              "  <tbody>\n",
              "    <tr>\n",
              "      <th>0</th>\n",
              "      <td>0.0</td>\n",
              "      <td>2021-01-28</td>\n",
              "      <td>math professor scott steiner says the numbers ...</td>\n",
              "      <td>279</td>\n",
              "      <td>103</td>\n",
              "      <td>38</td>\n",
              "      <td>31</td>\n",
              "      <td>3.322581</td>\n",
              "    </tr>\n",
              "    <tr>\n",
              "      <th>1</th>\n",
              "      <td>0.0</td>\n",
              "      <td>2021-01-29</td>\n",
              "      <td>current data on gme short positions whats this...</td>\n",
              "      <td>3256</td>\n",
              "      <td>1458</td>\n",
              "      <td>507</td>\n",
              "      <td>391</td>\n",
              "      <td>3.728900</td>\n",
              "    </tr>\n",
              "    <tr>\n",
              "      <th>2</th>\n",
              "      <td>0.0</td>\n",
              "      <td>2021-02-01</td>\n",
              "      <td>although they write that melvin is down 53 the...</td>\n",
              "      <td>250</td>\n",
              "      <td>46</td>\n",
              "      <td>36</td>\n",
              "      <td>49</td>\n",
              "      <td>0.938776</td>\n",
              "    </tr>\n",
              "    <tr>\n",
              "      <th>3</th>\n",
              "      <td>0.0</td>\n",
              "      <td>2021-02-02</td>\n",
              "      <td>if you re buying silver comment here not for j...</td>\n",
              "      <td>340</td>\n",
              "      <td>97</td>\n",
              "      <td>81</td>\n",
              "      <td>74</td>\n",
              "      <td>1.310811</td>\n",
              "    </tr>\n",
              "    <tr>\n",
              "      <th>4</th>\n",
              "      <td>0.0</td>\n",
              "      <td>2021-02-03</td>\n",
              "      <td>loss porn im not fucking selling gme omg games...</td>\n",
              "      <td>585</td>\n",
              "      <td>182</td>\n",
              "      <td>138</td>\n",
              "      <td>109</td>\n",
              "      <td>1.669725</td>\n",
              "    </tr>\n",
              "  </tbody>\n",
              "</table>\n",
              "</div>"
            ],
            "text/plain": [
              "   Trend        date  ... sell   buySell\n",
              "0    0.0  2021-01-28  ...   31  3.322581\n",
              "1    0.0  2021-01-29  ...  391  3.728900\n",
              "2    0.0  2021-02-01  ...   49  0.938776\n",
              "3    0.0  2021-02-02  ...   74  1.310811\n",
              "4    0.0  2021-02-03  ...  109  1.669725\n",
              "\n",
              "[5 rows x 8 columns]"
            ]
          },
          "metadata": {
            "tags": []
          },
          "execution_count": 52
        }
      ]
    },
    {
      "cell_type": "code",
      "metadata": {
        "colab": {
          "base_uri": "https://localhost:8080/",
          "height": 195
        },
        "id": "F-D1CaI_Mpe0",
        "outputId": "60bc798a-a287-408e-eff1-2e17235854af"
      },
      "source": [
        "#data_bert.drop(data_bert.index[[0,1]])\n",
        "data_bert.head()"
      ],
      "execution_count": 53,
      "outputs": [
        {
          "output_type": "execute_result",
          "data": {
            "text/html": [
              "<div>\n",
              "<style scoped>\n",
              "    .dataframe tbody tr th:only-of-type {\n",
              "        vertical-align: middle;\n",
              "    }\n",
              "\n",
              "    .dataframe tbody tr th {\n",
              "        vertical-align: top;\n",
              "    }\n",
              "\n",
              "    .dataframe thead th {\n",
              "        text-align: right;\n",
              "    }\n",
              "</style>\n",
              "<table border=\"1\" class=\"dataframe\">\n",
              "  <thead>\n",
              "    <tr style=\"text-align: right;\">\n",
              "      <th></th>\n",
              "      <th>Trend</th>\n",
              "      <th>date</th>\n",
              "      <th>title</th>\n",
              "      <th>gme</th>\n",
              "      <th>buy</th>\n",
              "      <th>hold</th>\n",
              "      <th>sell</th>\n",
              "      <th>buySell</th>\n",
              "    </tr>\n",
              "  </thead>\n",
              "  <tbody>\n",
              "    <tr>\n",
              "      <th>0</th>\n",
              "      <td>0.0</td>\n",
              "      <td>2021-01-28</td>\n",
              "      <td>math professor scott steiner says the numbers ...</td>\n",
              "      <td>279</td>\n",
              "      <td>103</td>\n",
              "      <td>38</td>\n",
              "      <td>31</td>\n",
              "      <td>3.322581</td>\n",
              "    </tr>\n",
              "    <tr>\n",
              "      <th>1</th>\n",
              "      <td>0.0</td>\n",
              "      <td>2021-01-29</td>\n",
              "      <td>current data on gme short positions whats this...</td>\n",
              "      <td>3256</td>\n",
              "      <td>1458</td>\n",
              "      <td>507</td>\n",
              "      <td>391</td>\n",
              "      <td>3.728900</td>\n",
              "    </tr>\n",
              "    <tr>\n",
              "      <th>2</th>\n",
              "      <td>0.0</td>\n",
              "      <td>2021-02-01</td>\n",
              "      <td>although they write that melvin is down 53 the...</td>\n",
              "      <td>250</td>\n",
              "      <td>46</td>\n",
              "      <td>36</td>\n",
              "      <td>49</td>\n",
              "      <td>0.938776</td>\n",
              "    </tr>\n",
              "    <tr>\n",
              "      <th>3</th>\n",
              "      <td>0.0</td>\n",
              "      <td>2021-02-02</td>\n",
              "      <td>if you re buying silver comment here not for j...</td>\n",
              "      <td>340</td>\n",
              "      <td>97</td>\n",
              "      <td>81</td>\n",
              "      <td>74</td>\n",
              "      <td>1.310811</td>\n",
              "    </tr>\n",
              "    <tr>\n",
              "      <th>4</th>\n",
              "      <td>0.0</td>\n",
              "      <td>2021-02-03</td>\n",
              "      <td>loss porn im not fucking selling gme omg games...</td>\n",
              "      <td>585</td>\n",
              "      <td>182</td>\n",
              "      <td>138</td>\n",
              "      <td>109</td>\n",
              "      <td>1.669725</td>\n",
              "    </tr>\n",
              "  </tbody>\n",
              "</table>\n",
              "</div>"
            ],
            "text/plain": [
              "   Trend        date  ... sell   buySell\n",
              "0    0.0  2021-01-28  ...   31  3.322581\n",
              "1    0.0  2021-01-29  ...  391  3.728900\n",
              "2    0.0  2021-02-01  ...   49  0.938776\n",
              "3    0.0  2021-02-02  ...   74  1.310811\n",
              "4    0.0  2021-02-03  ...  109  1.669725\n",
              "\n",
              "[5 rows x 8 columns]"
            ]
          },
          "metadata": {
            "tags": []
          },
          "execution_count": 53
        }
      ]
    },
    {
      "cell_type": "markdown",
      "metadata": {
        "id": "5snEz20vu9hj"
      },
      "source": [
        "\n",
        "An attempt was also made to find a pattern between the number of times the word “sell” was used, daily and the trend of the stock price. While there was no clear trend with between the trend and number of times “sell” was used, there appeared to be a cyclical trend in the count of “sell”\n",
        "\n"
      ]
    },
    {
      "cell_type": "code",
      "metadata": {
        "id": "D2R2havEPAW5"
      },
      "source": [
        "#plot_df['sell'].plot(kind='bar', color=[colors[i] for i in plot_df['Trend']])"
      ],
      "execution_count": 54,
      "outputs": []
    },
    {
      "cell_type": "code",
      "metadata": {
        "colab": {
          "base_uri": "https://localhost:8080/"
        },
        "id": "Ajfogs0G5Hvu",
        "outputId": "e4f78063-27ed-4021-83ab-41f91d237569"
      },
      "source": [
        "dff = data_bert.sample(frac=1)\n",
        "#train_size = int(0.01 * len(dff))\n",
        "#df_train = dff[:train_size]\n",
        "#df_test = dff[train_size:]\n",
        "df_train = dff[:50]\n",
        "df_test = dff[-7:]\n",
        "print(df_train.shape)\n",
        "print(df_test.shape)\n",
        "X_train, y_train = df_train['title'].values, df_train['Trend'].values\n",
        "X_test, y_test = df_test['title'].values, df_test['Trend'].values"
      ],
      "execution_count": 55,
      "outputs": [
        {
          "output_type": "stream",
          "text": [
            "(50, 8)\n",
            "(7, 8)\n"
          ],
          "name": "stdout"
        }
      ]
    },
    {
      "cell_type": "code",
      "metadata": {
        "colab": {
          "base_uri": "https://localhost:8080/"
        },
        "id": "GcUD9uP_J018",
        "outputId": "29db815a-757f-494b-f6c7-fcdd9dcbfa49"
      },
      "source": [
        "data_bert[-1:].shape"
      ],
      "execution_count": 56,
      "outputs": [
        {
          "output_type": "execute_result",
          "data": {
            "text/plain": [
              "(1, 8)"
            ]
          },
          "metadata": {
            "tags": []
          },
          "execution_count": 56
        }
      ]
    },
    {
      "cell_type": "code",
      "metadata": {
        "colab": {
          "base_uri": "https://localhost:8080/"
        },
        "id": "eLuPCEs8ICQe",
        "outputId": "06e45e1a-62f2-4e74-d77e-9bc72f8c28f5"
      },
      "source": [
        "import numpy as np\n",
        "unique, counts = np.unique(y_train, return_counts=True)\n",
        "print(np.asarray((unique, counts)))\n",
        "unique, counts = np.unique(y_test, return_counts=True)\n",
        "print(np.asarray((unique, counts)))"
      ],
      "execution_count": 57,
      "outputs": [
        {
          "output_type": "stream",
          "text": [
            "[[ 0.  1.]\n",
            " [34. 16.]]\n",
            "[[0. 1.]\n",
            " [2. 5.]]\n"
          ],
          "name": "stdout"
        }
      ]
    },
    {
      "cell_type": "markdown",
      "metadata": {
        "id": "1UV4aVK5rso-"
      },
      "source": [
        "#BERT"
      ]
    },
    {
      "cell_type": "code",
      "metadata": {
        "colab": {
          "base_uri": "https://localhost:8080/"
        },
        "id": "dmov020X4MrW",
        "outputId": "eefac7ad-5770-43a4-d4aa-35f80b133ce1"
      },
      "source": [
        "# install BERT sklearn wrapper written by charles9n\n",
        "# check out the github page for fine tuning options and usage\n",
        "# https://github.com/charles9n/bert-sklearn\n",
        "\n",
        "!git clone -b master https://github.com/charles9n/bert-sklearn\n",
        "!cd bert-sklearn; pip install ."
      ],
      "execution_count": 60,
      "outputs": [
        {
          "output_type": "stream",
          "text": [
            "Cloning into 'bert-sklearn'...\n",
            "remote: Enumerating objects: 259, done.\u001b[K\n",
            "remote: Total 259 (delta 0), reused 0 (delta 0), pack-reused 259\u001b[K\n",
            "Receiving objects: 100% (259/259), 516.15 KiB | 8.75 MiB/s, done.\n",
            "Resolving deltas: 100% (131/131), done.\n",
            "Processing /content/bert-sklearn\n",
            "Requirement already satisfied: torch>=0.4.1 in /usr/local/lib/python3.7/dist-packages (from bert-sklearn==0.3.1) (1.8.1+cu101)\n",
            "Requirement already satisfied: scikit-learn in /usr/local/lib/python3.7/dist-packages (from bert-sklearn==0.3.1) (0.22.2.post1)\n",
            "Requirement already satisfied: numpy in /usr/local/lib/python3.7/dist-packages (from bert-sklearn==0.3.1) (1.19.5)\n",
            "Requirement already satisfied: pandas in /usr/local/lib/python3.7/dist-packages (from bert-sklearn==0.3.1) (1.1.5)\n",
            "Collecting boto3\n",
            "\u001b[?25l  Downloading https://files.pythonhosted.org/packages/6e/58/4b422e8ecb8d6775fa2c5ce97f2b52fd8931b3417106ac56fef5b4ed2d4e/boto3-1.17.76-py2.py3-none-any.whl (131kB)\n",
            "\u001b[K     |████████████████████████████████| 133kB 3.8MB/s \n",
            "\u001b[?25hRequirement already satisfied: requests in /usr/local/lib/python3.7/dist-packages (from bert-sklearn==0.3.1) (2.23.0)\n",
            "Requirement already satisfied: tqdm in /usr/local/lib/python3.7/dist-packages (from bert-sklearn==0.3.1) (4.41.1)\n",
            "Requirement already satisfied: typing-extensions in /usr/local/lib/python3.7/dist-packages (from torch>=0.4.1->bert-sklearn==0.3.1) (3.7.4.3)\n",
            "Requirement already satisfied: joblib>=0.11 in /usr/local/lib/python3.7/dist-packages (from scikit-learn->bert-sklearn==0.3.1) (1.0.1)\n",
            "Requirement already satisfied: scipy>=0.17.0 in /usr/local/lib/python3.7/dist-packages (from scikit-learn->bert-sklearn==0.3.1) (1.4.1)\n",
            "Requirement already satisfied: pytz>=2017.2 in /usr/local/lib/python3.7/dist-packages (from pandas->bert-sklearn==0.3.1) (2018.9)\n",
            "Requirement already satisfied: python-dateutil>=2.7.3 in /usr/local/lib/python3.7/dist-packages (from pandas->bert-sklearn==0.3.1) (2.8.1)\n",
            "Collecting s3transfer<0.5.0,>=0.4.0\n",
            "\u001b[?25l  Downloading https://files.pythonhosted.org/packages/63/d0/693477c688348654ddc21dcdce0817653a294aa43f41771084c25e7ff9c7/s3transfer-0.4.2-py2.py3-none-any.whl (79kB)\n",
            "\u001b[K     |████████████████████████████████| 81kB 4.2MB/s \n",
            "\u001b[?25hCollecting botocore<1.21.0,>=1.20.76\n",
            "\u001b[?25l  Downloading https://files.pythonhosted.org/packages/bd/eb/1bf881ea46013687789a7c0ee0d76ff709772f11952194814730022fcca5/botocore-1.20.76-py2.py3-none-any.whl (7.5MB)\n",
            "\u001b[K     |████████████████████████████████| 7.5MB 8.9MB/s \n",
            "\u001b[?25hCollecting jmespath<1.0.0,>=0.7.1\n",
            "  Downloading https://files.pythonhosted.org/packages/07/cb/5f001272b6faeb23c1c9e0acc04d48eaaf5c862c17709d20e3469c6e0139/jmespath-0.10.0-py2.py3-none-any.whl\n",
            "Requirement already satisfied: certifi>=2017.4.17 in /usr/local/lib/python3.7/dist-packages (from requests->bert-sklearn==0.3.1) (2020.12.5)\n",
            "Requirement already satisfied: urllib3!=1.25.0,!=1.25.1,<1.26,>=1.21.1 in /usr/local/lib/python3.7/dist-packages (from requests->bert-sklearn==0.3.1) (1.24.3)\n",
            "Requirement already satisfied: chardet<4,>=3.0.2 in /usr/local/lib/python3.7/dist-packages (from requests->bert-sklearn==0.3.1) (3.0.4)\n",
            "Requirement already satisfied: idna<3,>=2.5 in /usr/local/lib/python3.7/dist-packages (from requests->bert-sklearn==0.3.1) (2.10)\n",
            "Requirement already satisfied: six>=1.5 in /usr/local/lib/python3.7/dist-packages (from python-dateutil>=2.7.3->pandas->bert-sklearn==0.3.1) (1.15.0)\n",
            "Building wheels for collected packages: bert-sklearn\n",
            "  Building wheel for bert-sklearn (setup.py) ... \u001b[?25l\u001b[?25hdone\n",
            "  Created wheel for bert-sklearn: filename=bert_sklearn-0.3.1-cp37-none-any.whl size=54235 sha256=34de7ae1fd5bd0492ea7c45acf52391043b41abca4a7ab048b2a5a6f7081cbcc\n",
            "  Stored in directory: /root/.cache/pip/wheels/61/95/c6/5790aae8fb377f5ff356dbe58205aab28858595d6bff8197d0\n",
            "Successfully built bert-sklearn\n",
            "\u001b[31mERROR: botocore 1.20.76 has requirement urllib3<1.27,>=1.25.4, but you'll have urllib3 1.24.3 which is incompatible.\u001b[0m\n",
            "Installing collected packages: jmespath, botocore, s3transfer, boto3, bert-sklearn\n",
            "Successfully installed bert-sklearn-0.3.1 boto3-1.17.76 botocore-1.20.76 jmespath-0.10.0 s3transfer-0.4.2\n"
          ],
          "name": "stdout"
        }
      ]
    },
    {
      "cell_type": "code",
      "metadata": {
        "colab": {
          "base_uri": "https://localhost:8080/",
          "height": 1000,
          "referenced_widgets": [
            "e75e7ba63f8f42eea01ef3a5ca042a1c",
            "4aa150afb2354d3d9237822657b36e42",
            "53f43a8ae6e14c2eb7419b339d746b24",
            "406679f24016425ea981cc8db99f8b6e",
            "4570c1ba6d4a43178530c7450a81c72e",
            "aa2967c13604452ebf9d2c35f51eca56",
            "a1750fe9960e423d9515f905c452d11d",
            "b4aa4801802b427790a502137d2184da",
            "00a5bfa1517d4610bdf8cf0b4cd83d18",
            "506d7ff06e6a44b98118bde9a8a05633",
            "a6b846a22fa143578a53cc07321455e3",
            "7f1dbe1b079145a4ae3670b285dcf8cb",
            "cd35540e80b34e1b8907af48830da422",
            "15919388c1794da8bce8850092ae367f",
            "e67eea3f63cf4250acad3e7d83384913",
            "452722553d7b4cb4b04d7565a3324c22",
            "0c689452c59947a786bbd26546943a47",
            "e5cb8ad6c1bf48dc9430b80a76517a5d",
            "dcef0c30ac34417ebbe0b6046a7573e3",
            "4ffbb53f610748ae94920e15aee2a229",
            "0c8f134341b24aeea7002590bca2fbc2",
            "f826c1515a2645bdb4395a7eb68aa05c",
            "47e9d4fcfde8468baf0bd300101eae06",
            "584c4850a2d34a81ac873c6a17e7aa09",
            "97db82bd9e1a48f7b91ed106a9ba2a05",
            "e7e175a4302f433296f1053f296dc6ce",
            "92d3ddcda22d49df84f2e4d1a9880ef5",
            "2383cd4895cb4314b9a80cc8dd35adf5",
            "9102fa7e725647559b5dd1bd4ebb5085",
            "efee5d38e5b746c09fe68c163f9a6103",
            "cfbbf3b2127143a2b7e1b5e372aeb9e3",
            "69d6fdc7407f43aeb7d43bdcde09ec96",
            "7e5ff9a3e1b545a69bb38763779211be",
            "68a4f1a4342e469c8e753bd92746b9ce",
            "2d30fd85f63243a2a43fc65bece95f69",
            "b0bf3d564d644a049a142ca04ae3e500",
            "64eea040e8bb45f89200f7e720a0321e",
            "aff1662173484d4a9c3d5f19348f5c82",
            "ac7b7d257dcc495eaef6830d76782314",
            "9df83d1d3d9f4c0cadc7e98ce6e6ae78",
            "57677991e2ed47999a1c3c7b804914ef",
            "d0339ffb7f7e4ad0934e5f6af06e2f71",
            "1d9ce393e73246a9a799e26b69ed6ede",
            "d5ef56898f374a0b9db7d3b8ca736b36",
            "65cafe2b95c34dd0811bf8bfaac8572c",
            "4a20b68d76194bb991b68c0388e26686",
            "86e8dc6ec3034a1bbf6e102423166e92",
            "5b2bd44fe33341528937b2b9500a98cf"
          ]
        },
        "id": "QvNQ8nUCIMju",
        "outputId": "4b8c4224-0d11-470c-bbdd-02243dae9a1a"
      },
      "source": [
        "# fine tune a BERT base uncased model\n",
        "# since this wrapper has included vectorization using word embedding, no need to vectorize like in LinearSVC\n",
        "# first the pre-trained BERT model will be loaded in\n",
        "# then the training starts. 90% examples will be used as training examples and the other 10% as validation (parameter tuning)\n",
        "# default setting is 3 epoch. Each epoch takes in some training data\n",
        "from bert_sklearn import BertClassifier\n",
        "model = BertClassifier()         # text/text pair classification\n",
        "print(model)\n",
        "model.fit(X_train, y_train)"
      ],
      "execution_count": 61,
      "outputs": [
        {
          "output_type": "stream",
          "text": [
            "Building sklearn text classifier...\n",
            "BertClassifier(bert_config_json=None, bert_model='bert-base-uncased',\n",
            "               bert_vocab=None, do_lower_case=None, epochs=3, eval_batch_size=8,\n",
            "               fp16=False, from_tf=False, gradient_accumulation_steps=1,\n",
            "               ignore_label=None, label_list=None, learning_rate=2e-05,\n",
            "               local_rank=-1, logfile='bert_sklearn.log', loss_scale=0,\n",
            "               max_seq_length=128, num_mlp_hiddens=500, num_mlp_layers=0,\n",
            "               random_state=42, restore_file=None, train_batch_size=32,\n",
            "               use_cuda=True, validation_fraction=0.1, warmup_proportion=0.1)\n"
          ],
          "name": "stdout"
        },
        {
          "output_type": "stream",
          "text": [
            "100%|██████████| 231508/231508 [00:00<00:00, 2924867.10B/s]\n"
          ],
          "name": "stderr"
        },
        {
          "output_type": "stream",
          "text": [
            "Loading bert-base-uncased model...\n"
          ],
          "name": "stdout"
        },
        {
          "output_type": "stream",
          "text": [
            "100%|██████████| 440473133/440473133 [00:10<00:00, 43818463.57B/s]\n",
            "100%|██████████| 433/433 [00:00<00:00, 86019.69B/s]\n"
          ],
          "name": "stderr"
        },
        {
          "output_type": "stream",
          "text": [
            "Defaulting to linear classifier/regressor\n",
            "Loading Pytorch checkpoint\n",
            "\n",
            "train data size: 45, validation data size: 5\n",
            "\n"
          ],
          "name": "stdout"
        },
        {
          "output_type": "stream",
          "text": [
            "/usr/local/lib/python3.7/dist-packages/torch/utils/data/dataloader.py:477: UserWarning:\n",
            "\n",
            "This DataLoader will create 5 worker processes in total. Our suggested max number of worker in current system is 2, which is smaller than what this DataLoader is going to create. Please be aware that excessive worker creation might get DataLoader running slow or even freeze, lower the worker number to avoid potential slowness/freeze if necessary.\n",
            "\n"
          ],
          "name": "stderr"
        },
        {
          "output_type": "display_data",
          "data": {
            "application/vnd.jupyter.widget-view+json": {
              "model_id": "e75e7ba63f8f42eea01ef3a5ca042a1c",
              "version_minor": 0,
              "version_major": 2
            },
            "text/plain": [
              "HBox(children=(FloatProgress(value=0.0, description='Training  ', max=2.0, style=ProgressStyle(description_wid…"
            ]
          },
          "metadata": {
            "tags": []
          }
        },
        {
          "output_type": "stream",
          "text": [
            "/usr/local/lib/python3.7/dist-packages/bert_sklearn/model/pytorch_pretrained/optimization.py:275: UserWarning:\n",
            "\n",
            "This overload of add_ is deprecated:\n",
            "\tadd_(Number alpha, Tensor other)\n",
            "Consider using one of the following signatures instead:\n",
            "\tadd_(Tensor other, *, Number alpha) (Triggered internally at  /pytorch/torch/csrc/utils/python_arg_parser.cpp:1005.)\n",
            "\n"
          ],
          "name": "stderr"
        },
        {
          "output_type": "stream",
          "text": [
            "\n"
          ],
          "name": "stdout"
        },
        {
          "output_type": "display_data",
          "data": {
            "application/vnd.jupyter.widget-view+json": {
              "model_id": "00a5bfa1517d4610bdf8cf0b4cd83d18",
              "version_minor": 0,
              "version_major": 2
            },
            "text/plain": [
              "HBox(children=(FloatProgress(value=0.0, description='Validating', max=1.0, style=ProgressStyle(description_wid…"
            ]
          },
          "metadata": {
            "tags": []
          }
        },
        {
          "output_type": "stream",
          "text": [
            "\n",
            "\n",
            "Epoch 1, Train loss: 0.5755, Val loss: 0.9993, Val accy: 40.00%\n",
            "\n"
          ],
          "name": "stdout"
        },
        {
          "output_type": "display_data",
          "data": {
            "application/vnd.jupyter.widget-view+json": {
              "model_id": "0c689452c59947a786bbd26546943a47",
              "version_minor": 0,
              "version_major": 2
            },
            "text/plain": [
              "HBox(children=(FloatProgress(value=0.0, description='Training  ', max=2.0, style=ProgressStyle(description_wid…"
            ]
          },
          "metadata": {
            "tags": []
          }
        },
        {
          "output_type": "stream",
          "text": [
            "\n"
          ],
          "name": "stdout"
        },
        {
          "output_type": "display_data",
          "data": {
            "application/vnd.jupyter.widget-view+json": {
              "model_id": "97db82bd9e1a48f7b91ed106a9ba2a05",
              "version_minor": 0,
              "version_major": 2
            },
            "text/plain": [
              "HBox(children=(FloatProgress(value=0.0, description='Validating', max=1.0, style=ProgressStyle(description_wid…"
            ]
          },
          "metadata": {
            "tags": []
          }
        },
        {
          "output_type": "stream",
          "text": [
            "\n",
            "\n",
            "Epoch 2, Train loss: 0.6005, Val loss: 0.9432, Val accy: 40.00%\n",
            "\n"
          ],
          "name": "stdout"
        },
        {
          "output_type": "display_data",
          "data": {
            "application/vnd.jupyter.widget-view+json": {
              "model_id": "7e5ff9a3e1b545a69bb38763779211be",
              "version_minor": 0,
              "version_major": 2
            },
            "text/plain": [
              "HBox(children=(FloatProgress(value=0.0, description='Training  ', max=2.0, style=ProgressStyle(description_wid…"
            ]
          },
          "metadata": {
            "tags": []
          }
        },
        {
          "output_type": "stream",
          "text": [
            "\n"
          ],
          "name": "stdout"
        },
        {
          "output_type": "display_data",
          "data": {
            "application/vnd.jupyter.widget-view+json": {
              "model_id": "57677991e2ed47999a1c3c7b804914ef",
              "version_minor": 0,
              "version_major": 2
            },
            "text/plain": [
              "HBox(children=(FloatProgress(value=0.0, description='Validating', max=1.0, style=ProgressStyle(description_wid…"
            ]
          },
          "metadata": {
            "tags": []
          }
        },
        {
          "output_type": "stream",
          "text": [
            "\n",
            "\n",
            "Epoch 3, Train loss: 0.5551, Val loss: 0.9119, Val accy: 40.00%\n",
            "\n"
          ],
          "name": "stdout"
        },
        {
          "output_type": "execute_result",
          "data": {
            "text/plain": [
              "BertClassifier(bert_config_json=None, bert_model='bert-base-uncased',\n",
              "               bert_vocab=None, do_lower_case=True, epochs=3, eval_batch_size=8,\n",
              "               fp16=False, from_tf=False, gradient_accumulation_steps=1,\n",
              "               ignore_label=None, label_list=array([0., 1.]),\n",
              "               learning_rate=2e-05, local_rank=-1, logfile='bert_sklearn.log',\n",
              "               loss_scale=0, max_seq_length=128, num_mlp_hiddens=500,\n",
              "               num_mlp_layers=0, random_state=42, restore_file=None,\n",
              "               train_batch_size=32, use_cuda=True, validation_fraction=0.1,\n",
              "               warmup_proportion=0.1)"
            ]
          },
          "metadata": {
            "tags": []
          },
          "execution_count": 61
        }
      ]
    },
    {
      "cell_type": "code",
      "metadata": {
        "id": "JmGmnNFqIPlc"
      },
      "source": [
        "model.save('bert-sentiment.model')"
      ],
      "execution_count": 62,
      "outputs": []
    },
    {
      "cell_type": "code",
      "metadata": {
        "colab": {
          "base_uri": "https://localhost:8080/",
          "height": 203,
          "referenced_widgets": [
            "1dc32bcfe6b141ce8125db51f421403e",
            "dda43119f64e4a67a56767ae1c25ccff",
            "4ff610ead43146a39db13b6175eae18b",
            "50c506dea88c448499e3ed55620c743a",
            "526c588059904697941026f069d3fe99",
            "c48b182001a34c9c8e61ad4164545d0a",
            "55a43e145b12401e8eba901a60cf4b29",
            "9db69e1500aa478fae61183b4facbd1e"
          ]
        },
        "id": "s1AQ3wk5JkhZ",
        "outputId": "a225d9b0-2e04-43ad-9173-0b6d5bf78051"
      },
      "source": [
        "model.score(X_test, y_test)"
      ],
      "execution_count": 63,
      "outputs": [
        {
          "output_type": "stream",
          "text": [
            "/usr/local/lib/python3.7/dist-packages/torch/utils/data/dataloader.py:477: UserWarning:\n",
            "\n",
            "This DataLoader will create 5 worker processes in total. Our suggested max number of worker in current system is 2, which is smaller than what this DataLoader is going to create. Please be aware that excessive worker creation might get DataLoader running slow or even freeze, lower the worker number to avoid potential slowness/freeze if necessary.\n",
            "\n"
          ],
          "name": "stderr"
        },
        {
          "output_type": "display_data",
          "data": {
            "application/vnd.jupyter.widget-view+json": {
              "model_id": "1dc32bcfe6b141ce8125db51f421403e",
              "version_minor": 0,
              "version_major": 2
            },
            "text/plain": [
              "HBox(children=(FloatProgress(value=0.0, description='Testing', max=1.0, style=ProgressStyle(description_width=…"
            ]
          },
          "metadata": {
            "tags": []
          }
        },
        {
          "output_type": "stream",
          "text": [
            "\n",
            "\n",
            "Loss: 1.0772, Accuracy: 28.57%\n"
          ],
          "name": "stdout"
        },
        {
          "output_type": "execute_result",
          "data": {
            "text/plain": [
              "28.57142857142857"
            ]
          },
          "metadata": {
            "tags": []
          },
          "execution_count": 63
        }
      ]
    },
    {
      "cell_type": "markdown",
      "metadata": {
        "id": "uVkzOg20ryXN"
      },
      "source": [
        "#Support Vector Machine (SVM)\n",
        "\n",
        "In order to trained SVM model on the relabled dataset, the first 50 days’ data was used and the last 7 day’s data was left for testing. Using “CountVectorizer” and “LinearSVC” the final model with the following significant words was built\n",
        "\n",
        "\n"
      ]
    },
    {
      "cell_type": "code",
      "metadata": {
        "colab": {
          "base_uri": "https://localhost:8080/"
        },
        "id": "qCfTCRR-JmEt",
        "outputId": "20877063-a3a1-4a69-d7a3-1270e745715e"
      },
      "source": [
        "from sklearn.feature_extraction.text import CountVectorizer\n",
        "unigram_count_vectorizer = CountVectorizer(encoding='latin-1', binary=False, min_df=2, stop_words='english')\n",
        "X_train_vec = unigram_count_vectorizer.fit_transform(X_train)\n",
        "from sklearn.svm import LinearSVC\n",
        "svm_clf = LinearSVC(C=1, max_iter=2000)\n",
        "svm_clf.fit(X_train_vec,y_train)\n",
        "feature_ranks = sorted(zip(svm_clf.coef_[0], unigram_count_vectorizer.get_feature_names()))\n",
        "trend_0 = feature_ranks[-10:]\n",
        "print(\"Positive\")\n",
        "for i in range(0, len(trend_0)):\n",
        "    print(trend_0[i])\n",
        "print()\n",
        "trend_1= feature_ranks[:10]\n",
        "print(\"Negative\")\n",
        "for i in range(0, len(trend_1)):\n",
        "    print(trend_1[i])\n",
        "print()"
      ],
      "execution_count": 64,
      "outputs": [
        {
          "output_type": "stream",
          "text": [
            "Positive\n",
            "(0.032512104422125106, 'asked')\n",
            "(0.03265056867247933, 'obvs')\n",
            "(0.032650568672479334, '34')\n",
            "(0.032650568672479334, 'ing')\n",
            "(0.032650568672479334, 'poem')\n",
            "(0.03277871126330773, 'potential')\n",
            "(0.03294828848216369, 'dd')\n",
            "(0.033139050458674886, 'missed')\n",
            "(0.033213553238173064, 'flair')\n",
            "(0.03383464793406222, 'literally')\n",
            "(0.03407996162562531, 'hodl')\n",
            "(0.03436365184638712, 'redemption')\n",
            "(0.0345429566130833, 'growth')\n",
            "(0.035878755081225774, 'great')\n",
            "(0.03647970770195316, 'senior')\n",
            "(0.036861680695625045, 'advised')\n",
            "(0.036861680695625045, 'elliott')\n",
            "(0.036956054527555036, 'dfv')\n",
            "(0.03726050028204719, 'notes')\n",
            "(0.037552435988402195, 'weed')\n",
            "(0.039096909334839045, 'meme')\n",
            "(0.04102201488615308, 'available')\n",
            "(0.041064580894311926, 'shares')\n",
            "(0.04228870607175196, '26')\n",
            "(0.044950351758256984, 'portfolio')\n",
            "(0.04565626485317194, 'wasn')\n",
            "(0.04703412809063099, 'analysis')\n",
            "(0.049404328318214376, '29')\n",
            "(0.05004928000701298, 'option')\n",
            "(0.05024454803632071, 'ape')\n",
            "(0.052443333780596936, 'levels')\n",
            "(0.05551085584481144, '250')\n",
            "(0.055690533903205365, 'calling')\n",
            "(0.05655936861541095, 'sentiment')\n",
            "(0.05733955740661454, 'storm')\n",
            "(0.057786321711917735, '999')\n",
            "(0.057786321711917735, 'popcorn')\n",
            "(0.05922363418451891, 'catalyst')\n",
            "(0.05996524708987287, 'grab')\n",
            "(0.06003793355871021, '1k')\n",
            "(0.06041467877311481, 'coming')\n",
            "(0.06059075946959318, 'rkt')\n",
            "(0.06087866376067729, 'incoming')\n",
            "(0.06133072431055349, 'thinking')\n",
            "(0.0641338877561146, 'week')\n",
            "(0.06458729884932175, 'stock')\n",
            "(0.06522663456546025, 'shitpost')\n",
            "(0.06566928613939599, 'calm')\n",
            "(0.06911799196203436, 'tomorrow')\n",
            "(0.08088992302907687, 'early')\n",
            "\n",
            "Negative\n",
            "(-0.13921051633569326, 'plan')\n",
            "(-0.13212860954768416, 'executive')\n",
            "(-0.11651123716994205, 'right')\n",
            "(-0.11003225600553065, 'gamestop')\n",
            "(-0.10621587385619226, 'officer')\n",
            "(-0.10098434090117471, 'chief')\n",
            "(-0.09430512469994312, 'announces')\n",
            "(-0.09245823561446209, 'april')\n",
            "(-0.08786073693763927, '2021')\n",
            "(-0.08737387983818194, 'going')\n",
            "(-0.08420058072529901, 'options')\n",
            "(-0.08360126602014185, '80')\n",
            "(-0.08324178982590795, 'noobs')\n",
            "(-0.08324178982590795, 'nuts')\n",
            "(-0.08285364985923267, 'future')\n",
            "(-0.07851513130638849, 'dear')\n",
            "(-0.07616431498755957, 'crash')\n",
            "(-0.06805126151919226, 'loss')\n",
            "(-0.06625962305601592, 'lost')\n",
            "(-0.06562693536695285, 'squeeze')\n",
            "(-0.057768510164323356, 'buying')\n",
            "(-0.05688147072288477, 'sold')\n",
            "(-0.05496653482382187, 'open')\n",
            "(-0.04647876186139851, 'megathread')\n",
            "(-0.045856582499720716, 'today')\n",
            "(-0.04496613989828122, 'close')\n",
            "(-0.04481006333144395, 'don')\n",
            "(-0.04091865238442909, 'stop')\n",
            "(-0.03977417035806935, 'dip')\n",
            "(-0.0395337894772435, 'feb')\n",
            "(-0.03810774905973838, 'roth')\n",
            "(-0.03792734107522615, 'new')\n",
            "(-0.03726839039859465, 'power')\n",
            "(-0.03670973028054324, '25')\n",
            "(-0.03661647736585808, 'fucking')\n",
            "(-0.03629066097734476, 'losses')\n",
            "(-0.03597059126810881, 'ira')\n",
            "(-0.03543919834108436, '16')\n",
            "(-0.034574203926259144, 'position')\n",
            "(-0.03346459423182704, '000')\n",
            "(-0.032771353374828574, 'report')\n",
            "(-0.032128136041546344, 'needs')\n",
            "(-0.031247428598139334, 'tsla')\n",
            "(-0.03099476840138279, '800c')\n",
            "(-0.030912984638099356, 'market')\n",
            "(-0.03045804477764396, 'learned')\n",
            "(-0.030456410463517165, 'news')\n",
            "(-0.030045877410985904, 'pre')\n",
            "(-0.02986738671023444, '60')\n",
            "(-0.029624473973563888, 'ended')\n",
            "\n"
          ],
          "name": "stdout"
        }
      ]
    },
    {
      "cell_type": "code",
      "metadata": {
        "colab": {
          "base_uri": "https://localhost:8080/"
        },
        "id": "KEmgeG3eV8eU",
        "outputId": "80691500-0fc5-4730-8e42-c48d9568b8c5"
      },
      "source": [
        "X_test_vec = unigram_count_vectorizer.transform(X_test)\n",
        "y_pred = svm_clf.predict(X_test_vec)\n",
        "svm_clf.score(X_test_vec,y_test)"
      ],
      "execution_count": 65,
      "outputs": [
        {
          "output_type": "execute_result",
          "data": {
            "text/plain": [
              "0.14285714285714285"
            ]
          },
          "metadata": {
            "tags": []
          },
          "execution_count": 65
        }
      ]
    },
    {
      "cell_type": "code",
      "metadata": {
        "colab": {
          "base_uri": "https://localhost:8080/"
        },
        "id": "wWxcLg_LVM1t",
        "outputId": "2e9e7f94-6521-4b12-d081-2788a46109f9"
      },
      "source": [
        "# you can also try cross validation on the train set\n",
        "# the result should not be far from the hold-out test\n",
        "from sklearn.pipeline import Pipeline\n",
        "from sklearn.model_selection import cross_val_score\n",
        "svm_pipe = Pipeline([('vect', unigram_count_vectorizer),('svm',LinearSVC(dual=True, max_iter=2000))])\n",
        "scores = cross_val_score(svm_pipe,X_train,y_train,cv=3)\n",
        "print(sum(scores)/len(scores))"
      ],
      "execution_count": 66,
      "outputs": [
        {
          "output_type": "stream",
          "text": [
            "0.6225490196078431\n"
          ],
          "name": "stdout"
        }
      ]
    }
  ]
}